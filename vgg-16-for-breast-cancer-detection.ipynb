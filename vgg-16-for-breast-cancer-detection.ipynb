{
 "cells": [
  {
   "cell_type": "code",
   "execution_count": 1,
   "metadata": {
    "_cell_guid": "b1076dfc-b9ad-4769-8c92-a6c4dae69d19",
    "_uuid": "8f2839f25d086af736a60e9eeb907d3b93b6e0e5",
    "execution": {
     "iopub.execute_input": "2024-02-27T08:39:15.347626Z",
     "iopub.status.busy": "2024-02-27T08:39:15.347298Z",
     "iopub.status.idle": "2024-02-27T08:39:32.040163Z",
     "shell.execute_reply": "2024-02-27T08:39:32.039350Z",
     "shell.execute_reply.started": "2024-02-27T08:39:15.347597Z"
    }
   },
   "outputs": [
    {
     "name": "stderr",
     "output_type": "stream",
     "text": [
      "2024-02-27 08:39:20.188279: E external/local_xla/xla/stream_executor/cuda/cuda_dnn.cc:9261] Unable to register cuDNN factory: Attempting to register factory for plugin cuDNN when one has already been registered\n",
      "2024-02-27 08:39:20.188412: E external/local_xla/xla/stream_executor/cuda/cuda_fft.cc:607] Unable to register cuFFT factory: Attempting to register factory for plugin cuFFT when one has already been registered\n",
      "2024-02-27 08:39:20.391330: E external/local_xla/xla/stream_executor/cuda/cuda_blas.cc:1515] Unable to register cuBLAS factory: Attempting to register factory for plugin cuBLAS when one has already been registered\n"
     ]
    }
   ],
   "source": [
    "import numpy as np\n",
    "import pandas as pd\n",
    "import matplotlib.pyplot as plt\n",
    "import seaborn as sns\n",
    "import glob, os\n",
    "\n",
    "import tensorflow as tf\n",
    "from tensorflow import keras\n",
    "from tensorflow.keras import layers, activations, optimizers, losses, metrics, initializers\n",
    "from tensorflow.keras.preprocessing import image, image_dataset_from_directory\n",
    "from tensorflow.keras.applications.mobilenet_v3 import preprocess_input, decode_predictions\n",
    "\n",
    "seed = 42\n",
    "tf.random.set_seed(seed)\n",
    "np.random.seed(seed)"
   ]
  },
  {
   "cell_type": "code",
   "execution_count": 2,
   "metadata": {
    "execution": {
     "iopub.execute_input": "2024-02-27T08:39:32.042133Z",
     "iopub.status.busy": "2024-02-27T08:39:32.041619Z",
     "iopub.status.idle": "2024-02-27T08:39:32.046535Z",
     "shell.execute_reply": "2024-02-27T08:39:32.045509Z",
     "shell.execute_reply.started": "2024-02-27T08:39:32.042108Z"
    }
   },
   "outputs": [],
   "source": [
    "dir_path = '/kaggle/input/breast-ultrasound-images-dataset/Dataset_BUSI_with_GT/'\n",
    "IMAGE_SHAPE = (128, 128)"
   ]
  },
  {
   "cell_type": "code",
   "execution_count": 3,
   "metadata": {
    "execution": {
     "iopub.execute_input": "2024-02-27T08:39:32.048039Z",
     "iopub.status.busy": "2024-02-27T08:39:32.047676Z",
     "iopub.status.idle": "2024-02-27T08:39:32.067957Z",
     "shell.execute_reply": "2024-02-27T08:39:32.067126Z",
     "shell.execute_reply.started": "2024-02-27T08:39:32.048010Z"
    }
   },
   "outputs": [],
   "source": [
    "# create prepare_image method\n",
    "# used to preprocess the image for efficientNet model\n",
    "def prepare_image(file):\n",
    "    img = image.load_img(file, target_size=IMAGE_SHAPE)\n",
    "    img_array = image.img_to_array(img)\n",
    "    return tf.keras.applications.efficientnet.preprocess_input (img_array)"
   ]
  },
  {
   "cell_type": "code",
   "execution_count": 4,
   "metadata": {
    "execution": {
     "iopub.execute_input": "2024-02-27T08:39:32.071442Z",
     "iopub.status.busy": "2024-02-27T08:39:32.070911Z",
     "iopub.status.idle": "2024-02-27T08:39:32.522230Z",
     "shell.execute_reply": "2024-02-27T08:39:32.521210Z",
     "shell.execute_reply.started": "2024-02-27T08:39:32.071418Z"
    }
   },
   "outputs": [
    {
     "data": {
      "text/plain": [
       "(1578, 1578)"
      ]
     },
     "execution_count": 4,
     "metadata": {},
     "output_type": "execute_result"
    }
   ],
   "source": [
    "directories = os.listdir(dir_path) # read the folders\n",
    "\n",
    "files = [] # save all images for each folder\n",
    "labels = [] # set for each image the name of it\n",
    "\n",
    "# read files for each directory\n",
    "for folder in directories:\n",
    "    \n",
    "    fileList = glob.glob(dir_path + '/'+ folder + '/*')\n",
    "    labels.extend([folder for l in fileList])\n",
    "    files.extend(fileList)\n",
    "    \n",
    "len(files), len(labels)"
   ]
  },
  {
   "cell_type": "code",
   "execution_count": 5,
   "metadata": {
    "execution": {
     "iopub.execute_input": "2024-02-27T08:39:32.523620Z",
     "iopub.status.busy": "2024-02-27T08:39:32.523328Z",
     "iopub.status.idle": "2024-02-27T08:39:32.531574Z",
     "shell.execute_reply": "2024-02-27T08:39:32.530780Z",
     "shell.execute_reply.started": "2024-02-27T08:39:32.523596Z"
    }
   },
   "outputs": [
    {
     "data": {
      "text/plain": [
       "(780, 780)"
      ]
     },
     "execution_count": 5,
     "metadata": {},
     "output_type": "execute_result"
    }
   ],
   "source": [
    "# create two lists to hold only non-mask images and label for each one\n",
    "selected_files = []\n",
    "selected_labels = []\n",
    "\n",
    "for file, label in zip(files, labels):\n",
    "    if 'mask' not in file:\n",
    "        selected_files.append(file)\n",
    "        selected_labels.append(label)\n",
    "\n",
    "    \n",
    "len(selected_files), len(selected_labels)"
   ]
  },
  {
   "cell_type": "code",
   "execution_count": 6,
   "metadata": {
    "execution": {
     "iopub.execute_input": "2024-02-27T08:39:32.532762Z",
     "iopub.status.busy": "2024-02-27T08:39:32.532491Z",
     "iopub.status.idle": "2024-02-27T08:39:45.408605Z",
     "shell.execute_reply": "2024-02-27T08:39:45.407707Z",
     "shell.execute_reply.started": "2024-02-27T08:39:32.532716Z"
    }
   },
   "outputs": [
    {
     "name": "stdout",
     "output_type": "stream",
     "text": [
      "Preparing the image...\n",
      "Finished.\n"
     ]
    }
   ],
   "source": [
    "# the dictionary holds list of images and for each one has its target/label\n",
    "images = {\n",
    "    'image': [], \n",
    "    'target': []\n",
    "}\n",
    "\n",
    "print('Preparing the image...')\n",
    "\n",
    "for i, (file, label) in enumerate(zip(selected_files, selected_labels)):\n",
    "    images['image'].append(prepare_image(file))\n",
    "    images['target'].append(label)\n",
    "\n",
    "print('Finished.')"
   ]
  },
  {
   "cell_type": "code",
   "execution_count": 7,
   "metadata": {
    "execution": {
     "iopub.execute_input": "2024-02-27T08:39:45.410078Z",
     "iopub.status.busy": "2024-02-27T08:39:45.409716Z",
     "iopub.status.idle": "2024-02-27T08:39:45.531205Z",
     "shell.execute_reply": "2024-02-27T08:39:45.530231Z",
     "shell.execute_reply.started": "2024-02-27T08:39:45.410047Z"
    }
   },
   "outputs": [
    {
     "name": "stdout",
     "output_type": "stream",
     "text": [
      "the target classes are: ['benign' 'malignant' 'normal']\n"
     ]
    }
   ],
   "source": [
    "# convert lists to arrays \n",
    "images['image'] = np.array(images['image'])\n",
    "images['target'] = np.array(images['target'])\n",
    "\n",
    "# encode the target\n",
    "from sklearn.preprocessing import LabelEncoder\n",
    "le = LabelEncoder()\n",
    "\n",
    "images['target'] = le.fit_transform(images['target'])\n",
    "\n",
    "classes = le.classes_ # get the classes for each target\n",
    "print(f'the target classes are: {classes}')"
   ]
  },
  {
   "cell_type": "code",
   "execution_count": 8,
   "metadata": {
    "execution": {
     "iopub.execute_input": "2024-02-27T08:39:45.533121Z",
     "iopub.status.busy": "2024-02-27T08:39:45.532460Z",
     "iopub.status.idle": "2024-02-27T08:39:45.682703Z",
     "shell.execute_reply": "2024-02-27T08:39:45.681762Z",
     "shell.execute_reply.started": "2024-02-27T08:39:45.533086Z"
    }
   },
   "outputs": [
    {
     "data": {
      "text/plain": [
       "((702, 128, 128, 3), (78, 128, 128, 3), (702,), (78,))"
      ]
     },
     "execution_count": 8,
     "metadata": {},
     "output_type": "execute_result"
    }
   ],
   "source": [
    "from sklearn.model_selection import train_test_split\n",
    "\n",
    "x_train, x_test, y_train, y_test = train_test_split(images['image'], images['target'], test_size=.10)\n",
    "\n",
    "x_train.shape, x_test.shape, y_train.shape, y_test.shape "
   ]
  },
  {
   "cell_type": "code",
   "execution_count": 9,
   "metadata": {
    "execution": {
     "iopub.execute_input": "2024-02-27T08:39:45.684336Z",
     "iopub.status.busy": "2024-02-27T08:39:45.683986Z",
     "iopub.status.idle": "2024-02-27T08:39:45.690195Z",
     "shell.execute_reply": "2024-02-27T08:39:45.689139Z",
     "shell.execute_reply.started": "2024-02-27T08:39:45.684312Z"
    }
   },
   "outputs": [],
   "source": [
    "# from tensorflow.keras.models import Model\n",
    "# from tensorflow.keras.layers import Input, Conv2D, MaxPooling2D, Flatten, Dense\n",
    "\n",
    "# def VGG16(input_shape=(224, 224, 3), num_classes=3):\n",
    "#     inputs = Input(shape=input_shape)\n",
    "    \n",
    "#     # Block 1\n",
    "#     x = Conv2D(64, (3, 3), activation='relu', padding='same')(inputs)\n",
    "#     x = Conv2D(64, (3, 3), activation='relu', padding='same')(x)\n",
    "#     x = MaxPooling2D((2, 2), strides=(2, 2))(x)\n",
    "    \n",
    "#     # Block 2\n",
    "#     x = Conv2D(128, (3, 3), activation='relu', padding='same')(x)\n",
    "#     x = Conv2D(128, (3, 3), activation='relu', padding='same')(x)\n",
    "#     x = MaxPooling2D((2, 2), strides=(2, 2))(x)\n",
    "    \n",
    "#     # Block 3\n",
    "#     x = Conv2D(256, (3, 3), activation='relu', padding='same')(x)\n",
    "#     x = Conv2D(256, (3, 3), activation='relu', padding='same')(x)\n",
    "#     x = Conv2D(256, (3, 3), activation='relu', padding='same')(x)\n",
    "#     x = MaxPooling2D((2, 2), strides=(2, 2))(x)\n",
    "    \n",
    "#     # Block 4\n",
    "#     x = Conv2D(512, (3, 3), activation='relu', padding='same')(x)\n",
    "#     x = Conv2D(512, (3, 3), activation='relu', padding='same')(x)\n",
    "#     x = Conv2D(512, (3, 3), activation='relu', padding='same')(x)\n",
    "#     x = MaxPooling2D((2, 2), strides=(2, 2))(x)\n",
    "    \n",
    "#     # Block 5\n",
    "#     x = Conv2D(512, (3, 3), activation='relu', padding='same')(x)\n",
    "#     x = Conv2D(512, (3, 3), activation='relu', padding='same')(x)\n",
    "#     x = Conv2D(512, (3, 3), activation='relu', padding='same')(x)\n",
    "#     x = MaxPooling2D((2, 2), strides=(2, 2))(x)\n",
    "    \n",
    "#     # Classification block\n",
    "#     x = Flatten()(x)\n",
    "#     x = Dense(4096, activation='relu')(x)\n",
    "#     x = Dense(4096, activation='relu')(x)\n",
    "#     outputs = Dense(num_classes, activation='softmax')(x)\n",
    "    \n",
    "#     model = Model(inputs=inputs, outputs=outputs)\n",
    "#     return model\n",
    "\n",
    "# # Create VGG16 model\n",
    "# model = VGG16(input_shape=(224, 224, 3), num_classes=3)\n",
    "\n",
    "# # Display model summary\n",
    "# model.summary()\n"
   ]
  },
  {
   "cell_type": "code",
   "execution_count": 10,
   "metadata": {
    "execution": {
     "iopub.execute_input": "2024-02-27T08:39:45.693424Z",
     "iopub.status.busy": "2024-02-27T08:39:45.693104Z",
     "iopub.status.idle": "2024-02-27T08:39:47.566489Z",
     "shell.execute_reply": "2024-02-27T08:39:47.565612Z",
     "shell.execute_reply.started": "2024-02-27T08:39:45.693400Z"
    }
   },
   "outputs": [
    {
     "name": "stdout",
     "output_type": "stream",
     "text": [
      "Downloading data from https://storage.googleapis.com/tensorflow/keras-applications/vgg16/vgg16_weights_tf_dim_ordering_tf_kernels_notop.h5\n",
      "58889256/58889256 [==============================] - 0s 0us/step\n"
     ]
    }
   ],
   "source": [
    "from keras.applications.vgg16 import VGG16\n",
    "base_model = VGG16(\n",
    "    include_top=False,\n",
    "    weights='imagenet',\n",
    "    input_shape=(*IMAGE_SHAPE, 3),\n",
    "    classes=3)\n",
    "\n",
    "# Freeze the base_model\n",
    "base_model.trainable = False\n",
    "\n",
    "# append my own layers on the top of the model for Transfer Learning\n",
    "x = base_model.output\n",
    "\n",
    "# 1st conv block\n",
    "x = layers.Conv2D(256, 3, padding='same')(x)\n",
    "x = layers.BatchNormalization()(x)\n",
    "x = layers.Activation('relu')(x)\n",
    "x = layers.GlobalAveragePooling2D(keepdims = True)(x)\n",
    "\n",
    "# 2nd conv block\n",
    "x = layers.Conv2D(128, 3, padding='same')(x)\n",
    "x = layers.BatchNormalization()(x)\n",
    "x = layers.Activation('relu')(x)\n",
    "x = layers.GlobalAveragePooling2D(keepdims = True)(x)\n",
    "\n",
    "# 1st FC layer\n",
    "x = layers.Flatten()(x) \n",
    "x = layers.Dense(64)(x)\n",
    "x = layers.BatchNormalization()(x)\n",
    "x = layers.Activation('relu')(x)\n",
    "\n",
    "# 2nd FC layer\n",
    "x = layers.Dense(32, activation = 'relu')(x)\n",
    "x = layers.BatchNormalization()(x)\n",
    "x = layers.Activation('relu')(x)\n",
    "x = layers.Dropout(.2)(x)\n",
    "\n",
    "x = layers.Dense(3, 'softmax')(x)\n",
    "\n",
    "incept_model = keras.models.Model(inputs = base_model.input, outputs = x)\n",
    "# incept_model = keras.models.Model(inputs = base_model.input, outputs = base_model.output)\n",
    "\n",
    "# compile the model\n",
    "incept_model.compile(optimizer=optimizers.RMSprop(.001), loss = losses.sparse_categorical_crossentropy, metrics= [metrics.SparseCategoricalAccuracy()])"
   ]
  },
  {
   "cell_type": "code",
   "execution_count": 11,
   "metadata": {
    "execution": {
     "iopub.execute_input": "2024-02-27T08:39:47.568005Z",
     "iopub.status.busy": "2024-02-27T08:39:47.567648Z",
     "iopub.status.idle": "2024-02-27T08:39:47.572666Z",
     "shell.execute_reply": "2024-02-27T08:39:47.571658Z",
     "shell.execute_reply.started": "2024-02-27T08:39:47.567974Z"
    }
   },
   "outputs": [],
   "source": [
    "# from tensorflow.keras.applications import VGG16\n",
    "# from tensorflow.keras.models import Model\n",
    "# from tensorflow.keras.layers import Dense\n",
    "\n",
    "# # Load the pre-trained VGG16 model\n",
    "# base_model = VGG16(weights='imagenet', include_top=False, input_shape=(224, 224, 3))\n",
    "\n",
    "# # Add new fully connected layers for your classification task\n",
    "# x = base_model.output\n",
    "# x = Flatten()(x)\n",
    "# x = Dense(4096, activation='relu')(x)\n",
    "# x = Dense(4096, activation='relu')(x)\n",
    "# outputs = Dense(3, activation='softmax')(x)\n",
    "\n",
    "# # Create the new model\n",
    "# incept_model = Model(inputs=base_model.input, outputs=outputs)\n",
    "# incept_model.compile(optimizer=optimizers.RMSprop(.001), loss = losses.sparse_categorical_crossentropy, metrics= [metrics.SparseCategoricalAccuracy()])"
   ]
  },
  {
   "cell_type": "code",
   "execution_count": 12,
   "metadata": {
    "execution": {
     "iopub.execute_input": "2024-02-27T08:39:47.574168Z",
     "iopub.status.busy": "2024-02-27T08:39:47.573915Z",
     "iopub.status.idle": "2024-02-27T08:39:47.663248Z",
     "shell.execute_reply": "2024-02-27T08:39:47.662407Z",
     "shell.execute_reply.started": "2024-02-27T08:39:47.574146Z"
    }
   },
   "outputs": [
    {
     "name": "stdout",
     "output_type": "stream",
     "text": [
      "Model: \"model\"\n",
      "_________________________________________________________________\n",
      " Layer (type)                Output Shape              Param #   \n",
      "=================================================================\n",
      " input_1 (InputLayer)        [(None, 128, 128, 3)]     0         \n",
      "                                                                 \n",
      " block1_conv1 (Conv2D)       (None, 128, 128, 64)      1792      \n",
      "                                                                 \n",
      " block1_conv2 (Conv2D)       (None, 128, 128, 64)      36928     \n",
      "                                                                 \n",
      " block1_pool (MaxPooling2D)  (None, 64, 64, 64)        0         \n",
      "                                                                 \n",
      " block2_conv1 (Conv2D)       (None, 64, 64, 128)       73856     \n",
      "                                                                 \n",
      " block2_conv2 (Conv2D)       (None, 64, 64, 128)       147584    \n",
      "                                                                 \n",
      " block2_pool (MaxPooling2D)  (None, 32, 32, 128)       0         \n",
      "                                                                 \n",
      " block3_conv1 (Conv2D)       (None, 32, 32, 256)       295168    \n",
      "                                                                 \n",
      " block3_conv2 (Conv2D)       (None, 32, 32, 256)       590080    \n",
      "                                                                 \n",
      " block3_conv3 (Conv2D)       (None, 32, 32, 256)       590080    \n",
      "                                                                 \n",
      " block3_pool (MaxPooling2D)  (None, 16, 16, 256)       0         \n",
      "                                                                 \n",
      " block4_conv1 (Conv2D)       (None, 16, 16, 512)       1180160   \n",
      "                                                                 \n",
      " block4_conv2 (Conv2D)       (None, 16, 16, 512)       2359808   \n",
      "                                                                 \n",
      " block4_conv3 (Conv2D)       (None, 16, 16, 512)       2359808   \n",
      "                                                                 \n",
      " block4_pool (MaxPooling2D)  (None, 8, 8, 512)         0         \n",
      "                                                                 \n",
      " block5_conv1 (Conv2D)       (None, 8, 8, 512)         2359808   \n",
      "                                                                 \n",
      " block5_conv2 (Conv2D)       (None, 8, 8, 512)         2359808   \n",
      "                                                                 \n",
      " block5_conv3 (Conv2D)       (None, 8, 8, 512)         2359808   \n",
      "                                                                 \n",
      " block5_pool (MaxPooling2D)  (None, 4, 4, 512)         0         \n",
      "                                                                 \n",
      " conv2d (Conv2D)             (None, 4, 4, 256)         1179904   \n",
      "                                                                 \n",
      " batch_normalization (Batch  (None, 4, 4, 256)         1024      \n",
      " Normalization)                                                  \n",
      "                                                                 \n",
      " activation (Activation)     (None, 4, 4, 256)         0         \n",
      "                                                                 \n",
      " global_average_pooling2d (  (None, 1, 1, 256)         0         \n",
      " GlobalAveragePooling2D)                                         \n",
      "                                                                 \n",
      " conv2d_1 (Conv2D)           (None, 1, 1, 128)         295040    \n",
      "                                                                 \n",
      " batch_normalization_1 (Bat  (None, 1, 1, 128)         512       \n",
      " chNormalization)                                                \n",
      "                                                                 \n",
      " activation_1 (Activation)   (None, 1, 1, 128)         0         \n",
      "                                                                 \n",
      " global_average_pooling2d_1  (None, 1, 1, 128)         0         \n",
      "  (GlobalAveragePooling2D)                                       \n",
      "                                                                 \n",
      " flatten (Flatten)           (None, 128)               0         \n",
      "                                                                 \n",
      " dense (Dense)               (None, 64)                8256      \n",
      "                                                                 \n",
      " batch_normalization_2 (Bat  (None, 64)                256       \n",
      " chNormalization)                                                \n",
      "                                                                 \n",
      " activation_2 (Activation)   (None, 64)                0         \n",
      "                                                                 \n",
      " dense_1 (Dense)             (None, 32)                2080      \n",
      "                                                                 \n",
      " batch_normalization_3 (Bat  (None, 32)                128       \n",
      " chNormalization)                                                \n",
      "                                                                 \n",
      " activation_3 (Activation)   (None, 32)                0         \n",
      "                                                                 \n",
      " dropout (Dropout)           (None, 32)                0         \n",
      "                                                                 \n",
      " dense_2 (Dense)             (None, 3)                 99        \n",
      "                                                                 \n",
      "=================================================================\n",
      "Total params: 16201987 (61.81 MB)\n",
      "Trainable params: 1486339 (5.67 MB)\n",
      "Non-trainable params: 14715648 (56.14 MB)\n",
      "_________________________________________________________________\n"
     ]
    }
   ],
   "source": [
    "incept_model.summary()"
   ]
  },
  {
   "cell_type": "code",
   "execution_count": 13,
   "metadata": {
    "execution": {
     "iopub.execute_input": "2024-02-27T08:39:47.664568Z",
     "iopub.status.busy": "2024-02-27T08:39:47.664312Z",
     "iopub.status.idle": "2024-02-27T08:41:17.889841Z",
     "shell.execute_reply": "2024-02-27T08:41:17.889048Z",
     "shell.execute_reply.started": "2024-02-27T08:39:47.664546Z"
    }
   },
   "outputs": [
    {
     "name": "stdout",
     "output_type": "stream",
     "text": [
      "Epoch 1/100\n"
     ]
    },
    {
     "name": "stderr",
     "output_type": "stream",
     "text": [
      "WARNING: All log messages before absl::InitializeLog() is called are written to STDERR\n",
      "I0000 00:00:1709023196.768003      97 device_compiler.h:186] Compiled cluster using XLA!  This line is logged at most once for the lifetime of the process.\n"
     ]
    },
    {
     "name": "stdout",
     "output_type": "stream",
     "text": [
      "22/22 [==============================] - 18s 344ms/step - loss: 1.2981 - sparse_categorical_accuracy: 0.4330 - val_loss: 1.0752 - val_sparse_categorical_accuracy: 0.5000\n",
      "Epoch 2/100\n"
     ]
    },
    {
     "name": "stderr",
     "output_type": "stream",
     "text": [
      "/opt/conda/lib/python3.10/site-packages/keras/src/engine/training.py:3103: UserWarning: You are saving your model as an HDF5 file via `model.save()`. This file format is considered legacy. We recommend using instead the native Keras format, e.g. `model.save('my_model.keras')`.\n",
      "  saving_api.save_model(\n"
     ]
    },
    {
     "name": "stdout",
     "output_type": "stream",
     "text": [
      "22/22 [==============================] - 1s 56ms/step - loss: 0.8213 - sparse_categorical_accuracy: 0.6738 - val_loss: 0.9252 - val_sparse_categorical_accuracy: 0.5000\n",
      "Epoch 3/100\n",
      "22/22 [==============================] - 1s 57ms/step - loss: 0.5803 - sparse_categorical_accuracy: 0.7977 - val_loss: 0.9008 - val_sparse_categorical_accuracy: 0.5641\n",
      "Epoch 4/100\n",
      "22/22 [==============================] - 1s 56ms/step - loss: 0.4506 - sparse_categorical_accuracy: 0.8462 - val_loss: 0.8579 - val_sparse_categorical_accuracy: 0.5769\n",
      "Epoch 5/100\n",
      "22/22 [==============================] - 1s 68ms/step - loss: 0.3655 - sparse_categorical_accuracy: 0.8846 - val_loss: 0.8265 - val_sparse_categorical_accuracy: 0.6410\n",
      "Epoch 6/100\n",
      "22/22 [==============================] - 1s 47ms/step - loss: 0.2661 - sparse_categorical_accuracy: 0.9160 - val_loss: 0.8296 - val_sparse_categorical_accuracy: 0.6410\n",
      "Epoch 7/100\n",
      "22/22 [==============================] - 1s 56ms/step - loss: 0.2447 - sparse_categorical_accuracy: 0.9302 - val_loss: 0.7883 - val_sparse_categorical_accuracy: 0.6923\n",
      "Epoch 8/100\n",
      "22/22 [==============================] - 1s 56ms/step - loss: 0.1887 - sparse_categorical_accuracy: 0.9402 - val_loss: 0.6868 - val_sparse_categorical_accuracy: 0.6923\n",
      "Epoch 9/100\n",
      "22/22 [==============================] - 1s 46ms/step - loss: 0.1635 - sparse_categorical_accuracy: 0.9530 - val_loss: 0.7827 - val_sparse_categorical_accuracy: 0.6795\n",
      "Epoch 10/100\n",
      "22/22 [==============================] - 1s 46ms/step - loss: 0.1724 - sparse_categorical_accuracy: 0.9459 - val_loss: 0.7394 - val_sparse_categorical_accuracy: 0.7179\n",
      "Epoch 11/100\n",
      "22/22 [==============================] - 1s 46ms/step - loss: 0.1586 - sparse_categorical_accuracy: 0.9473 - val_loss: 0.9209 - val_sparse_categorical_accuracy: 0.6923\n",
      "Epoch 12/100\n",
      "22/22 [==============================] - 1s 46ms/step - loss: 0.1126 - sparse_categorical_accuracy: 0.9715 - val_loss: 0.7573 - val_sparse_categorical_accuracy: 0.7436\n",
      "Epoch 13/100\n",
      "22/22 [==============================] - 1s 47ms/step - loss: 0.0845 - sparse_categorical_accuracy: 0.9772 - val_loss: 1.0026 - val_sparse_categorical_accuracy: 0.7179\n",
      "Epoch 14/100\n",
      "22/22 [==============================] - 1s 46ms/step - loss: 0.1050 - sparse_categorical_accuracy: 0.9658 - val_loss: 1.0025 - val_sparse_categorical_accuracy: 0.6923\n",
      "Epoch 15/100\n",
      "22/22 [==============================] - 1s 46ms/step - loss: 0.1324 - sparse_categorical_accuracy: 0.9615 - val_loss: 1.0202 - val_sparse_categorical_accuracy: 0.6667\n",
      "Epoch 16/100\n",
      "22/22 [==============================] - 1s 47ms/step - loss: 0.0756 - sparse_categorical_accuracy: 0.9801 - val_loss: 0.8726 - val_sparse_categorical_accuracy: 0.6923\n",
      "Epoch 17/100\n",
      "22/22 [==============================] - 1s 48ms/step - loss: 0.1119 - sparse_categorical_accuracy: 0.9701 - val_loss: 0.8101 - val_sparse_categorical_accuracy: 0.7179\n",
      "Epoch 18/100\n",
      "22/22 [==============================] - 1s 47ms/step - loss: 0.0796 - sparse_categorical_accuracy: 0.9758 - val_loss: 0.9372 - val_sparse_categorical_accuracy: 0.7308\n",
      "Epoch 19/100\n",
      "22/22 [==============================] - 1s 46ms/step - loss: 0.0864 - sparse_categorical_accuracy: 0.9772 - val_loss: 0.9654 - val_sparse_categorical_accuracy: 0.7436\n",
      "Epoch 20/100\n",
      "22/22 [==============================] - 1s 47ms/step - loss: 0.0500 - sparse_categorical_accuracy: 0.9915 - val_loss: 0.7595 - val_sparse_categorical_accuracy: 0.7564\n",
      "Epoch 21/100\n",
      "22/22 [==============================] - 1s 47ms/step - loss: 0.0660 - sparse_categorical_accuracy: 0.9801 - val_loss: 1.2219 - val_sparse_categorical_accuracy: 0.6923\n",
      "Epoch 22/100\n",
      "22/22 [==============================] - 1s 47ms/step - loss: 0.0516 - sparse_categorical_accuracy: 0.9858 - val_loss: 1.5687 - val_sparse_categorical_accuracy: 0.6923\n",
      "Epoch 23/100\n",
      "22/22 [==============================] - 1s 47ms/step - loss: 0.0651 - sparse_categorical_accuracy: 0.9829 - val_loss: 1.0934 - val_sparse_categorical_accuracy: 0.7436\n",
      "Epoch 24/100\n",
      "22/22 [==============================] - 1s 47ms/step - loss: 0.0543 - sparse_categorical_accuracy: 0.9900 - val_loss: 1.2641 - val_sparse_categorical_accuracy: 0.7564\n",
      "Epoch 25/100\n",
      "22/22 [==============================] - 1s 48ms/step - loss: 0.0657 - sparse_categorical_accuracy: 0.9815 - val_loss: 1.3287 - val_sparse_categorical_accuracy: 0.6923\n",
      "Epoch 26/100\n",
      "22/22 [==============================] - 1s 47ms/step - loss: 0.0577 - sparse_categorical_accuracy: 0.9829 - val_loss: 1.1790 - val_sparse_categorical_accuracy: 0.6923\n",
      "Epoch 27/100\n",
      "22/22 [==============================] - 1s 48ms/step - loss: 0.0414 - sparse_categorical_accuracy: 0.9886 - val_loss: 1.5338 - val_sparse_categorical_accuracy: 0.7051\n",
      "Epoch 28/100\n",
      "22/22 [==============================] - 1s 48ms/step - loss: 0.0689 - sparse_categorical_accuracy: 0.9829 - val_loss: 1.8057 - val_sparse_categorical_accuracy: 0.7308\n",
      "Epoch 29/100\n",
      "22/22 [==============================] - 1s 48ms/step - loss: 0.0350 - sparse_categorical_accuracy: 0.9900 - val_loss: 1.6732 - val_sparse_categorical_accuracy: 0.7308\n",
      "Epoch 30/100\n",
      "22/22 [==============================] - 1s 47ms/step - loss: 0.0295 - sparse_categorical_accuracy: 0.9915 - val_loss: 1.9246 - val_sparse_categorical_accuracy: 0.6923\n",
      "Epoch 31/100\n",
      "22/22 [==============================] - 1s 48ms/step - loss: 0.0316 - sparse_categorical_accuracy: 0.9872 - val_loss: 1.5408 - val_sparse_categorical_accuracy: 0.6795\n",
      "Epoch 32/100\n",
      "22/22 [==============================] - 1s 48ms/step - loss: 0.0204 - sparse_categorical_accuracy: 0.9929 - val_loss: 2.3915 - val_sparse_categorical_accuracy: 0.7179\n",
      "Epoch 33/100\n",
      "22/22 [==============================] - 1s 47ms/step - loss: 0.0332 - sparse_categorical_accuracy: 0.9915 - val_loss: 1.5416 - val_sparse_categorical_accuracy: 0.7179\n",
      "Epoch 34/100\n",
      "22/22 [==============================] - 1s 47ms/step - loss: 0.0537 - sparse_categorical_accuracy: 0.9786 - val_loss: 2.2662 - val_sparse_categorical_accuracy: 0.7308\n",
      "Epoch 35/100\n",
      "22/22 [==============================] - 1s 48ms/step - loss: 0.0467 - sparse_categorical_accuracy: 0.9886 - val_loss: 1.3295 - val_sparse_categorical_accuracy: 0.7436\n",
      "Epoch 36/100\n",
      "22/22 [==============================] - 1s 47ms/step - loss: 0.0179 - sparse_categorical_accuracy: 0.9957 - val_loss: 1.3400 - val_sparse_categorical_accuracy: 0.7821\n",
      "Epoch 37/100\n",
      "22/22 [==============================] - 1s 48ms/step - loss: 0.0242 - sparse_categorical_accuracy: 0.9943 - val_loss: 1.6230 - val_sparse_categorical_accuracy: 0.6667\n",
      "Epoch 38/100\n",
      "22/22 [==============================] - 1s 49ms/step - loss: 0.0213 - sparse_categorical_accuracy: 0.9943 - val_loss: 1.6157 - val_sparse_categorical_accuracy: 0.6923\n",
      "Epoch 39/100\n",
      "22/22 [==============================] - 1s 48ms/step - loss: 0.0766 - sparse_categorical_accuracy: 0.9729 - val_loss: 1.3248 - val_sparse_categorical_accuracy: 0.7436\n",
      "Epoch 40/100\n",
      "22/22 [==============================] - 1s 48ms/step - loss: 0.0356 - sparse_categorical_accuracy: 0.9858 - val_loss: 1.4840 - val_sparse_categorical_accuracy: 0.7179\n",
      "Epoch 41/100\n",
      "22/22 [==============================] - 1s 49ms/step - loss: 0.0648 - sparse_categorical_accuracy: 0.9858 - val_loss: 2.3279 - val_sparse_categorical_accuracy: 0.7051\n",
      "Epoch 42/100\n",
      "22/22 [==============================] - 1s 49ms/step - loss: 0.0108 - sparse_categorical_accuracy: 0.9986 - val_loss: 1.6905 - val_sparse_categorical_accuracy: 0.7436\n",
      "Epoch 43/100\n",
      "22/22 [==============================] - 1s 49ms/step - loss: 0.0138 - sparse_categorical_accuracy: 0.9986 - val_loss: 1.3308 - val_sparse_categorical_accuracy: 0.7179\n",
      "Epoch 44/100\n",
      "22/22 [==============================] - 1s 48ms/step - loss: 0.0431 - sparse_categorical_accuracy: 0.9886 - val_loss: 1.3746 - val_sparse_categorical_accuracy: 0.7564\n",
      "Epoch 45/100\n",
      "22/22 [==============================] - 1s 49ms/step - loss: 0.0167 - sparse_categorical_accuracy: 0.9943 - val_loss: 1.4940 - val_sparse_categorical_accuracy: 0.7564\n",
      "Epoch 46/100\n",
      "22/22 [==============================] - 1s 48ms/step - loss: 0.0240 - sparse_categorical_accuracy: 0.9943 - val_loss: 1.9955 - val_sparse_categorical_accuracy: 0.6923\n",
      "Epoch 47/100\n",
      "22/22 [==============================] - 1s 50ms/step - loss: 0.0513 - sparse_categorical_accuracy: 0.9786 - val_loss: 1.4724 - val_sparse_categorical_accuracy: 0.7308\n",
      "Epoch 48/100\n",
      "22/22 [==============================] - 1s 49ms/step - loss: 0.0631 - sparse_categorical_accuracy: 0.9900 - val_loss: 1.7486 - val_sparse_categorical_accuracy: 0.7564\n",
      "Epoch 49/100\n",
      "22/22 [==============================] - 1s 49ms/step - loss: 0.0190 - sparse_categorical_accuracy: 0.9943 - val_loss: 2.3291 - val_sparse_categorical_accuracy: 0.7179\n",
      "Epoch 50/100\n",
      "22/22 [==============================] - 1s 49ms/step - loss: 0.0414 - sparse_categorical_accuracy: 0.9858 - val_loss: 1.7293 - val_sparse_categorical_accuracy: 0.6923\n",
      "Epoch 51/100\n",
      "22/22 [==============================] - 1s 49ms/step - loss: 0.0207 - sparse_categorical_accuracy: 0.9929 - val_loss: 1.3620 - val_sparse_categorical_accuracy: 0.7949\n",
      "Epoch 52/100\n",
      "22/22 [==============================] - 1s 50ms/step - loss: 0.0216 - sparse_categorical_accuracy: 0.9929 - val_loss: 1.8661 - val_sparse_categorical_accuracy: 0.7051\n",
      "Epoch 53/100\n",
      "22/22 [==============================] - 1s 50ms/step - loss: 0.0081 - sparse_categorical_accuracy: 0.9972 - val_loss: 1.7170 - val_sparse_categorical_accuracy: 0.7436\n",
      "Epoch 54/100\n",
      "22/22 [==============================] - 1s 50ms/step - loss: 0.0103 - sparse_categorical_accuracy: 0.9957 - val_loss: 1.5599 - val_sparse_categorical_accuracy: 0.7436\n",
      "Epoch 55/100\n",
      "22/22 [==============================] - 1s 50ms/step - loss: 0.0236 - sparse_categorical_accuracy: 0.9886 - val_loss: 1.5564 - val_sparse_categorical_accuracy: 0.7436\n",
      "Epoch 56/100\n",
      "22/22 [==============================] - 1s 50ms/step - loss: 0.0369 - sparse_categorical_accuracy: 0.9900 - val_loss: 1.5014 - val_sparse_categorical_accuracy: 0.7821\n",
      "Epoch 57/100\n",
      "22/22 [==============================] - 1s 50ms/step - loss: 0.0308 - sparse_categorical_accuracy: 0.9915 - val_loss: 1.8518 - val_sparse_categorical_accuracy: 0.6795\n",
      "Epoch 58/100\n",
      "22/22 [==============================] - 1s 50ms/step - loss: 0.0186 - sparse_categorical_accuracy: 0.9915 - val_loss: 1.8683 - val_sparse_categorical_accuracy: 0.7436\n",
      "Epoch 59/100\n",
      "22/22 [==============================] - 1s 50ms/step - loss: 0.0220 - sparse_categorical_accuracy: 0.9929 - val_loss: 2.1152 - val_sparse_categorical_accuracy: 0.7179\n",
      "Epoch 60/100\n",
      "22/22 [==============================] - 1s 50ms/step - loss: 0.0260 - sparse_categorical_accuracy: 0.9943 - val_loss: 3.6242 - val_sparse_categorical_accuracy: 0.6923\n",
      "Epoch 61/100\n",
      "22/22 [==============================] - 1s 50ms/step - loss: 0.0293 - sparse_categorical_accuracy: 0.9915 - val_loss: 2.0120 - val_sparse_categorical_accuracy: 0.7051\n",
      "Epoch 62/100\n",
      "22/22 [==============================] - 1s 50ms/step - loss: 0.0724 - sparse_categorical_accuracy: 0.9858 - val_loss: 2.3615 - val_sparse_categorical_accuracy: 0.7436\n",
      "Epoch 63/100\n",
      "22/22 [==============================] - 1s 50ms/step - loss: 0.0076 - sparse_categorical_accuracy: 0.9986 - val_loss: 1.7575 - val_sparse_categorical_accuracy: 0.7179\n",
      "Epoch 64/100\n",
      "22/22 [==============================] - 1s 50ms/step - loss: 0.0257 - sparse_categorical_accuracy: 0.9915 - val_loss: 1.5461 - val_sparse_categorical_accuracy: 0.7179\n",
      "Epoch 65/100\n",
      "22/22 [==============================] - 1s 50ms/step - loss: 0.0679 - sparse_categorical_accuracy: 0.9801 - val_loss: 1.4831 - val_sparse_categorical_accuracy: 0.7949\n",
      "Epoch 66/100\n",
      "22/22 [==============================] - 1s 50ms/step - loss: 0.0291 - sparse_categorical_accuracy: 0.9915 - val_loss: 1.4902 - val_sparse_categorical_accuracy: 0.7821\n",
      "Epoch 67/100\n",
      "22/22 [==============================] - 1s 51ms/step - loss: 0.0121 - sparse_categorical_accuracy: 0.9972 - val_loss: 1.4204 - val_sparse_categorical_accuracy: 0.7436\n",
      "Epoch 68/100\n",
      "22/22 [==============================] - 1s 51ms/step - loss: 0.0195 - sparse_categorical_accuracy: 0.9929 - val_loss: 1.4003 - val_sparse_categorical_accuracy: 0.7949\n"
     ]
    }
   ],
   "source": [
    "earlyStop = keras.callbacks.EarlyStopping(patience=60) \n",
    "best_model = keras.callbacks.ModelCheckpoint(filepath='best_model_128*128.h5', save_best_only=True) \n",
    "\n",
    "with tf.device('/gpu:0'):\n",
    "    history = incept_model.fit(x_train, y_train, batch_size=32, epochs=100, validation_data=(x_test, y_test), callbacks=[earlyStop, best_model]) "
   ]
  },
  {
   "cell_type": "code",
   "execution_count": 14,
   "metadata": {
    "execution": {
     "iopub.execute_input": "2024-02-27T08:41:17.891293Z",
     "iopub.status.busy": "2024-02-27T08:41:17.891000Z",
     "iopub.status.idle": "2024-02-27T08:41:18.201715Z",
     "shell.execute_reply": "2024-02-27T08:41:18.200768Z",
     "shell.execute_reply.started": "2024-02-27T08:41:17.891257Z"
    }
   },
   "outputs": [
    {
     "data": {
      "text/plain": [
       "<matplotlib.legend.Legend at 0x7cd4e4547550>"
      ]
     },
     "execution_count": 14,
     "metadata": {},
     "output_type": "execute_result"
    },
    {
     "data": {
      "image/png": "[encoded data removed]",
      "text/plain": [
       "<Figure size 640x480 with 1 Axes>"
      ]
     },
     "metadata": {},
     "output_type": "display_data"
    }
   ],
   "source": [
    "hist = history.history\n",
    "\n",
    "plt.plot(hist['loss'], label=  'loss')\n",
    "plt.plot(hist['val_loss'], label = 'val_loss')\n",
    "plt.plot(hist['sparse_categorical_accuracy'], label='accuracy')\n",
    "plt.plot(hist['val_sparse_categorical_accuracy'], label='val_accuracy')\n",
    "plt.legend()"
   ]
  },
  {
   "cell_type": "code",
   "execution_count": 15,
   "metadata": {
    "execution": {
     "iopub.execute_input": "2024-02-27T08:41:18.203367Z",
     "iopub.status.busy": "2024-02-27T08:41:18.203002Z",
     "iopub.status.idle": "2024-02-27T08:41:18.414964Z",
     "shell.execute_reply": "2024-02-27T08:41:18.411452Z",
     "shell.execute_reply.started": "2024-02-27T08:41:18.203332Z"
    }
   },
   "outputs": [
    {
     "name": "stdout",
     "output_type": "stream",
     "text": [
      "3/3 [==============================] - 0s 37ms/step - loss: 1.4003 - sparse_categorical_accuracy: 0.7949\n"
     ]
    },
    {
     "data": {
      "text/plain": [
       "[1.4002999067306519, 0.7948718070983887]"
      ]
     },
     "execution_count": 15,
     "metadata": {},
     "output_type": "execute_result"
    }
   ],
   "source": [
    "incept_model.evaluate(x=x_test, y = y_test, batch_size=32, verbose=1)"
   ]
  }
 ],
 "metadata": {
  "kaggle": {
   "accelerator": "nvidiaTeslaT4",
   "dataSources": [
    {
     "datasetId": 1209633,
     "sourceId": 2021025,
     "sourceType": "datasetVersion"
    }
   ],
   "dockerImageVersionId": 30648,
   "isGpuEnabled": true,
   "isInternetEnabled": true,
   "language": "python",
   "sourceType": "notebook"
  },
  "kernelspec": {
   "display_name": "Python 3 (ipykernel)",
   "language": "python",
   "name": "python3"
  },
  "language_info": {
   "codemirror_mode": {
    "name": "ipython",
    "version": 3
   },
   "file_extension": ".py",
   "mimetype": "text/x-python",
   "name": "python",
   "nbconvert_exporter": "python",
   "pygments_lexer": "ipython3",
   "version": "3.9.16"
  }
 },
 "nbformat": 4,
 "nbformat_minor": 4
}
