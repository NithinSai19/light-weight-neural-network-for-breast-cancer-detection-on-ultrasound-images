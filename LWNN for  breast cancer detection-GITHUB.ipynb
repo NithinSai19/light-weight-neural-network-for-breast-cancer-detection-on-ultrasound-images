{
 "cells": [
  {
   "cell_type": "code",
   "execution_count": null,
   "id": "7cc94642",
   "metadata": {
    "execution": {
     "iopub.execute_input": "2024-02-22T15:26:15.179316Z",
     "iopub.status.busy": "2024-02-22T15:26:15.178860Z",
     "iopub.status.idle": "2024-02-22T15:26:30.584408Z",
     "shell.execute_reply": "2024-02-22T15:26:30.582673Z",
     "shell.execute_reply.started": "2024-02-22T15:26:15.179283Z"
    },
    "id": "00ac0057"
   },
   "outputs": [],
   "source": [
    "import os\n",
    "import cv2\n",
    "import keras\n",
    "import random\n",
    "import numpy as np\n",
    "import pandas as pd\n",
    "from glob import glob\n",
    "import tensorflow as tf\n",
    "import matplotlib.pyplot as plt"
   ]
  },
  {
   "cell_type": "code",
   "execution_count": null,
   "id": "52e357a3",
   "metadata": {
    "execution": {
     "iopub.execute_input": "2024-02-22T09:36:19.037724Z",
     "iopub.status.busy": "2024-02-22T09:36:19.036842Z",
     "iopub.status.idle": "2024-02-22T09:36:19.044599Z",
     "shell.execute_reply": "2024-02-22T09:36:19.043034Z",
     "shell.execute_reply.started": "2024-02-22T09:36:19.037674Z"
    },
    "id": "d8e273cc"
   },
   "outputs": [],
   "source": [
    "root_path = 'D:\\\\Downloads\\\\Project\\\\Dataset_BUSI_with_GT\\\\'"
   ]
  },
  {
   "cell_type": "code",
   "execution_count": null,
   "id": "92c4b410",
   "metadata": {},
   "outputs": [],
   "source": [
    "print(tf.__version__)"
   ]
  },
  {
   "cell_type": "code",
   "execution_count": null,
   "id": "e3d3f45b",
   "metadata": {
    "colab": {
     "base_uri": "https://localhost:8080/"
    },
    "execution": {
     "iopub.execute_input": "2024-02-22T09:36:22.398266Z",
     "iopub.status.busy": "2024-02-22T09:36:22.397647Z",
     "iopub.status.idle": "2024-02-22T09:36:22.417533Z",
     "shell.execute_reply": "2024-02-22T09:36:22.416528Z",
     "shell.execute_reply.started": "2024-02-22T09:36:22.398210Z"
    },
    "id": "714c5854",
    "outputId": "7def2f51-8e2c-4082-b653-f3bd74887664"
   },
   "outputs": [],
   "source": [
    "classes = sorted(os.listdir(root_path))\n",
    "classes"
   ]
  },
  {
   "cell_type": "code",
   "execution_count": null,
   "id": "2d3361ca",
   "metadata": {
    "execution": {
     "iopub.execute_input": "2024-02-22T09:36:24.858253Z",
     "iopub.status.busy": "2024-02-22T09:36:24.857824Z",
     "iopub.status.idle": "2024-02-22T09:36:25.560406Z",
     "shell.execute_reply": "2024-02-22T09:36:25.558941Z",
     "shell.execute_reply.started": "2024-02-22T09:36:24.858220Z"
    },
    "id": "ba066e55"
   },
   "outputs": [],
   "source": [
    "single_mask_paths = sorted([sorted(glob(root_path + name + \"/*mask.png\")) for name in classes])\n",
    "double_mask_paths = sorted([sorted(glob(root_path + name + \"/*mask_1.png\")) for name in classes])"
   ]
  },
  {
   "cell_type": "code",
   "execution_count": null,
   "id": "40bf9e44",
   "metadata": {
    "_kg_hide-output": false,
    "colab": {
     "base_uri": "https://localhost:8080/"
    },
    "execution": {
     "iopub.execute_input": "2024-02-22T09:37:26.270835Z",
     "iopub.status.busy": "2024-02-22T09:37:26.270300Z",
     "iopub.status.idle": "2024-02-22T09:37:26.293039Z",
     "shell.execute_reply": "2024-02-22T09:37:26.291446Z",
     "shell.execute_reply.started": "2024-02-22T09:37:26.270791Z"
    },
    "id": "e9422b8c",
    "outputId": "e1aa9248-d848-429d-b76b-7e04d621bd21"
   },
   "outputs": [],
   "source": [
    "single_mask_paths"
   ]
  },
  {
   "cell_type": "code",
   "execution_count": null,
   "id": "b5c11a32",
   "metadata": {
    "colab": {
     "base_uri": "https://localhost:8080/"
    },
    "execution": {
     "iopub.execute_input": "2024-02-22T09:37:37.808025Z",
     "iopub.status.busy": "2024-02-22T09:37:37.807229Z",
     "iopub.status.idle": "2024-02-22T09:37:37.816342Z",
     "shell.execute_reply": "2024-02-22T09:37:37.815122Z",
     "shell.execute_reply.started": "2024-02-22T09:37:37.807968Z"
    },
    "id": "adef9f6c",
    "outputId": "7f3fe3a5-c427-4c14-aa1a-ab56202b9c63"
   },
   "outputs": [],
   "source": [
    "double_mask_paths"
   ]
  },
  {
   "cell_type": "code",
   "execution_count": null,
   "id": "273fa9a6",
   "metadata": {},
   "outputs": [],
   "source": [
    "image  = plt.imread('D:\\\\Downloads\\\\Project\\\\Dataset_BUSI_with_GT\\\\benign\\\\benign (25).png')\n",
    "image = cv2.resize(image,(400,400))\n",
    "mask1  = plt.imread('D:\\\\Downloads\\\\Project\\\\Dataset_BUSI_with_GT\\\\benign\\\\benign (25)_mask.png')\n",
    "mask1 = cv2.resize(mask1,(400,400))\n",
    "mask2  = plt.imread('D:\\\\Downloads\\\\Project\\\\Dataset_BUSI_with_GT\\\\benign\\\\benign (25)_mask_1.png')\n",
    "mask2 = cv2.resize(mask2,(400,400))\n",
    "mask = mask1 + mask2\n",
    "mask = cv2.resize(mask,(400,400))"
   ]
  },
  {
   "cell_type": "code",
   "execution_count": null,
   "id": "db1e9d1b",
   "metadata": {
    "scrolled": true
   },
   "outputs": [],
   "source": [
    "plt.imshow(image,cmap='gray')\n",
    "plt.axis('off')"
   ]
  },
  {
   "cell_type": "code",
   "execution_count": null,
   "id": "ee78bd2a",
   "metadata": {},
   "outputs": [],
   "source": [
    "plt.imshow(mask1,cmap='gray')\n",
    "plt.axis('off')"
   ]
  },
  {
   "cell_type": "code",
   "execution_count": null,
   "id": "916a156c",
   "metadata": {},
   "outputs": [],
   "source": [
    "plt.imshow(mask2,cmap='gray')\n",
    "plt.axis('off')"
   ]
  },
  {
   "cell_type": "code",
   "execution_count": null,
   "id": "a18540ac",
   "metadata": {},
   "outputs": [],
   "source": [
    "plt.imshow(mask,cmap='gray')\n",
    "plt.axis('off')"
   ]
  },
  {
   "cell_type": "code",
   "execution_count": null,
   "id": "0f6acdbc",
   "metadata": {
    "execution": {
     "iopub.execute_input": "2024-02-22T09:37:47.288206Z",
     "iopub.status.busy": "2024-02-22T09:37:47.287703Z",
     "iopub.status.idle": "2024-02-22T09:37:47.295724Z",
     "shell.execute_reply": "2024-02-22T09:37:47.294419Z",
     "shell.execute_reply.started": "2024-02-22T09:37:47.288173Z"
    },
    "id": "088b3f93"
   },
   "outputs": [],
   "source": [
    "image_paths = []\n",
    "mask_paths = []\n",
    "for class_path in single_mask_paths:\n",
    "    for path in class_path:\n",
    "        img_path = path.replace('_mask','')\n",
    "        image_paths.append(img_path)\n",
    "        mask_paths.append(path)"
   ]
  },
  {
   "cell_type": "code",
   "execution_count": null,
   "id": "1285482b",
   "metadata": {
    "execution": {
     "iopub.execute_input": "2024-02-22T09:37:51.914075Z",
     "iopub.status.busy": "2024-02-22T09:37:51.913660Z",
     "iopub.status.idle": "2024-02-22T09:37:51.921898Z",
     "shell.execute_reply": "2024-02-22T09:37:51.920426Z",
     "shell.execute_reply.started": "2024-02-22T09:37:51.914041Z"
    }
   },
   "outputs": [],
   "source": [
    "import random\n",
    "combined_paths = list(zip(image_paths, mask_paths))\n",
    "random.shuffle(combined_paths)\n",
    "\n",
    "# Unzip the shuffled paths back into separate lists\n",
    "image_paths, mask_paths = zip(*combined_paths)"
   ]
  },
  {
   "cell_type": "code",
   "execution_count": null,
   "id": "2105ef48",
   "metadata": {
    "_kg_hide-output": false,
    "colab": {
     "base_uri": "https://localhost:8080/"
    },
    "execution": {
     "iopub.execute_input": "2024-02-22T09:37:56.256493Z",
     "iopub.status.busy": "2024-02-22T09:37:56.256083Z",
     "iopub.status.idle": "2024-02-22T09:37:56.273394Z",
     "shell.execute_reply": "2024-02-22T09:37:56.272414Z",
     "shell.execute_reply.started": "2024-02-22T09:37:56.256465Z"
    },
    "id": "ad3fa179",
    "outputId": "13418e8e-14f0-48d9-e145-8405a00863aa"
   },
   "outputs": [],
   "source": [
    "image_paths"
   ]
  },
  {
   "cell_type": "code",
   "execution_count": null,
   "id": "8330036d",
   "metadata": {
    "_kg_hide-input": true,
    "colab": {
     "base_uri": "https://localhost:8080/"
    },
    "execution": {
     "iopub.execute_input": "2024-02-22T09:38:04.932810Z",
     "iopub.status.busy": "2024-02-22T09:38:04.932451Z",
     "iopub.status.idle": "2024-02-22T09:38:04.951869Z",
     "shell.execute_reply": "2024-02-22T09:38:04.950438Z",
     "shell.execute_reply.started": "2024-02-22T09:38:04.932783Z"
    },
    "id": "175df745",
    "outputId": "61f10f46-79e4-4805-ba09-f06f136f386f"
   },
   "outputs": [],
   "source": [
    "mask_paths"
   ]
  },
  {
   "cell_type": "code",
   "execution_count": null,
   "id": "2e730f19",
   "metadata": {},
   "outputs": [],
   "source": [
    "image_paths = ['D:\\\\Downloads\\\\Project\\\\Dataset_BUSI_with_GT\\\\normal\\\\normal (1).png',\n",
    "  'D:\\\\Downloads\\\\Project\\\\Dataset_BUSI_with_GT\\\\normal\\\\normal (10).png',\n",
    "  'D:\\\\Downloads\\\\Project\\\\Dataset_BUSI_with_GT\\\\normal\\\\normal (100).png',\n",
    "  'D:\\\\Downloads\\\\Project\\\\Dataset_BUSI_with_GT\\\\normal\\\\normal (101).png',\n",
    "  'D:\\\\Downloads\\\\Project\\\\Dataset_BUSI_with_GT\\\\normal\\\\normal (102).png',\n",
    "  'D:\\\\Downloads\\\\Project\\\\Dataset_BUSI_with_GT\\\\benign\\\\benign (1).png',\n",
    "  'D:\\\\Downloads\\\\Project\\\\Dataset_BUSI_with_GT\\\\benign\\\\benign (10).png',\n",
    "  'D:\\\\Downloads\\\\Project\\\\Dataset_BUSI_with_GT\\\\benign\\\\benign (101).png',\n",
    "  'D:\\\\Downloads\\\\Project\\\\Dataset_BUSI_with_GT\\\\benign\\\\benign (102).png',\n",
    "  'D:\\\\Downloads\\\\Project\\\\Dataset_BUSI_with_GT\\\\benign\\\\benign (103).png',\n",
    "  'D:\\\\Downloads\\\\Project\\\\Dataset_BUSI_with_GT\\\\benign\\\\benign (39).png',\n",
    "  'D:\\\\Downloads\\\\Project\\\\Dataset_BUSI_with_GT\\\\malignant\\\\malignant (98).png'\n",
    "]\n",
    "\n",
    "mask_paths = ['D:\\\\Downloads\\\\Project\\\\Dataset_BUSI_with_GT\\\\normal\\\\normal (1)_mask.png',\n",
    "  'D:\\\\Downloads\\\\Project\\\\Dataset_BUSI_with_GT\\\\normal\\\\normal (10)_mask.png',\n",
    "  'D:\\\\Downloads\\\\Project\\\\Dataset_BUSI_with_GT\\\\normal\\\\normal (100)_mask.png',\n",
    "  'D:\\\\Downloads\\\\Project\\\\Dataset_BUSI_with_GT\\\\normal\\\\normal (101)_mask.png',\n",
    "  'D:\\\\Downloads\\\\Project\\\\Dataset_BUSI_with_GT\\\\normal\\\\normal (102)_mask.png',\n",
    "  'D:\\\\Downloads\\\\Project\\\\Dataset_BUSI_with_GT\\\\benign\\\\benign (1)_mask.png',\n",
    "  'D:\\\\Downloads\\\\Project\\\\Dataset_BUSI_with_GT\\\\benign\\\\benign (10)_mask.png',\n",
    "  'D:\\\\Downloads\\\\Project\\\\Dataset_BUSI_with_GT\\\\benign\\\\benign (101)_mask.png',\n",
    "  'D:\\\\Downloads\\\\Project\\\\Dataset_BUSI_with_GT\\\\benign\\\\benign (102)_mask.png',\n",
    "  'D:\\\\Downloads\\\\Project\\\\Dataset_BUSI_with_GT\\\\benign\\\\benign (103)_mask.png',\n",
    "  'D:\\\\Downloads\\\\Project\\\\Dataset_BUSI_with_GT\\\\benign\\\\benign (39)_mask.png',\n",
    "  'D:\\\\Downloads\\\\Project\\\\Dataset_BUSI_with_GT\\\\malignant\\\\malignant (98)_mask.png']"
   ]
  },
  {
   "cell_type": "code",
   "execution_count": null,
   "id": "408af262",
   "metadata": {},
   "outputs": [],
   "source": [
    "sub_image_paths = image_paths[:12]\n",
    "sub_mask_paths = mask_paths[:12]"
   ]
  },
  {
   "cell_type": "code",
   "execution_count": null,
   "id": "d02fa398",
   "metadata": {
    "colab": {
     "base_uri": "https://localhost:8080/"
    },
    "execution": {
     "iopub.execute_input": "2024-02-22T09:38:09.533669Z",
     "iopub.status.busy": "2024-02-22T09:38:09.532908Z",
     "iopub.status.idle": "2024-02-22T09:38:09.540610Z",
     "shell.execute_reply": "2024-02-22T09:38:09.538804Z",
     "shell.execute_reply.started": "2024-02-22T09:38:09.533624Z"
    },
    "id": "ptoe8d1WdWHP",
    "outputId": "0dc3930c-0c33-402f-d138-44be6074c8d8"
   },
   "outputs": [],
   "source": [
    "print(len(sub_image_paths))\n",
    "print(len(sub_mask_paths))"
   ]
  },
  {
   "cell_type": "markdown",
   "id": "339fc779",
   "metadata": {
    "id": "6098aa07"
   },
   "source": [
    "# IMAGE RESIZING"
   ]
  },
  {
   "cell_type": "code",
   "execution_count": null,
   "id": "63db2146",
   "metadata": {
    "execution": {
     "iopub.execute_input": "2024-02-22T09:38:12.452439Z",
     "iopub.status.busy": "2024-02-22T09:38:12.451711Z",
     "iopub.status.idle": "2024-02-22T09:38:12.458719Z",
     "shell.execute_reply": "2024-02-22T09:38:12.457563Z",
     "shell.execute_reply.started": "2024-02-22T09:38:12.452386Z"
    },
    "id": "cbea3a7d"
   },
   "outputs": [],
   "source": [
    "def resize_image_and_mask(image_path, mask_path, new_size):\n",
    "    # Load the image and mask\n",
    "    image = cv2.imread(image_path)\n",
    "    mask = cv2.imread(mask_path, cv2.IMREAD_GRAYSCALE)\n",
    "\n",
    "    # Resize the image and mask\n",
    "    resized_image = cv2.resize(image, new_size)\n",
    "    resized_mask = cv2.resize(mask, new_size)\n",
    "\n",
    "    return resized_image, resized_mask"
   ]
  },
  {
   "cell_type": "code",
   "execution_count": null,
   "id": "3b57aeb2",
   "metadata": {
    "id": "7323bb65"
   },
   "outputs": [],
   "source": [
    "images = []\n",
    "masks = []\n",
    "for image_path, mask_path in zip(sub_image_paths, sub_mask_paths):\n",
    "    resized_image,resized_mask = resize_image_and_mask(image_path, mask_path, (128,128))\n",
    "    images.append(resized_image)\n",
    "    masks.append(resized_mask)"
   ]
  },
  {
   "cell_type": "code",
   "execution_count": null,
   "id": "7071bf0c",
   "metadata": {
    "colab": {
     "base_uri": "https://localhost:8080/",
     "height": 400
    },
    "execution": {
     "iopub.execute_input": "2024-02-22T09:38:45.989947Z",
     "iopub.status.busy": "2024-02-22T09:38:45.989450Z"
    },
    "id": "de5dc8aa",
    "outputId": "fcab5a05-ac4a-43ee-d5a3-16550cf1c585"
   },
   "outputs": [],
   "source": [
    "fig, axes = plt.subplots(1, 2, figsize=(10, 5))\n",
    "\n",
    "# Display the first image\n",
    "axes[0].imshow(images[10])\n",
    "axes[0].set_title('Image')\n",
    "axes[0].axis('off')\n",
    "\n",
    "# Display the first mask\n",
    "axes[1].imshow(masks[10], cmap='gray')\n",
    "axes[1].set_title('Mask')\n",
    "axes[1].axis('off')\n",
    "\n",
    "plt.show()"
   ]
  },
  {
   "cell_type": "code",
   "execution_count": null,
   "id": "edd3f820",
   "metadata": {
    "colab": {
     "base_uri": "https://localhost:8080/"
    },
    "execution": {
     "iopub.execute_input": "2024-02-22T09:38:52.364410Z",
     "iopub.status.busy": "2024-02-22T09:38:52.363981Z",
     "iopub.status.idle": "2024-02-22T09:38:52.387936Z",
     "shell.execute_reply": "2024-02-22T09:38:52.386820Z",
     "shell.execute_reply.started": "2024-02-22T09:38:52.364377Z"
    },
    "id": "c5b7fb3f",
    "outputId": "2c443185-8174-45bf-d6af-0ffacd3cf9de"
   },
   "outputs": [],
   "source": [
    "image = cv2.imread(image_paths[0])\n",
    "mask = cv2.imread(mask_paths[0], cv2.IMREAD_GRAYSCALE)\n",
    "print(\"Before Resizing\")\n",
    "print(\"Image size:\", image.shape)\n",
    "print(\"Mask size:\", mask.shape)\n",
    "\n",
    "print(\"After Resizing\")\n",
    "print(\"Image size:\", images[0].shape)\n",
    "print(\"Mask size:\", masks[0].shape)"
   ]
  },
  {
   "cell_type": "code",
   "execution_count": null,
   "id": "e5b9c83d",
   "metadata": {
    "colab": {
     "base_uri": "https://localhost:8080/"
    },
    "execution": {
     "iopub.execute_input": "2024-02-22T09:38:56.052388Z",
     "iopub.status.busy": "2024-02-22T09:38:56.050880Z",
     "iopub.status.idle": "2024-02-22T09:38:56.075187Z",
     "shell.execute_reply": "2024-02-22T09:38:56.073534Z",
     "shell.execute_reply.started": "2024-02-22T09:38:56.052336Z"
    },
    "id": "_wf4Ovp0skeD",
    "outputId": "c2b4b6d5-c254-4e74-d5eb-e56a7f0bf546"
   },
   "outputs": [],
   "source": [
    "l = np.array(masks[0])\n",
    "l = l.reshape(-1)\n",
    "print(l.shape)\n",
    "print(np.unique(l))\n",
    "l_series = pd.Series(l)\n",
    "print(l_series.value_counts())"
   ]
  },
  {
   "cell_type": "code",
   "execution_count": null,
   "id": "c44bd63c",
   "metadata": {
    "colab": {
     "base_uri": "https://localhost:8080/",
     "height": 451
    },
    "execution": {
     "iopub.execute_input": "2024-02-22T09:39:10.239197Z",
     "iopub.status.busy": "2024-02-22T09:39:10.238780Z",
     "iopub.status.idle": "2024-02-22T09:39:10.501248Z",
     "shell.execute_reply": "2024-02-22T09:39:10.499326Z",
     "shell.execute_reply.started": "2024-02-22T09:39:10.239168Z"
    },
    "id": "dsqslCHTtZqG",
    "outputId": "76fe96dd-5e10-4337-c7c3-94e7b6d8f420"
   },
   "outputs": [],
   "source": [
    "plt.imshow(masks[0],cmap='gray')"
   ]
  },
  {
   "cell_type": "code",
   "execution_count": null,
   "id": "c1a064c0",
   "metadata": {
    "execution": {
     "iopub.execute_input": "2024-02-22T09:39:14.435705Z",
     "iopub.status.busy": "2024-02-22T09:39:14.435249Z",
     "iopub.status.idle": "2024-02-22T09:39:14.475125Z",
     "shell.execute_reply": "2024-02-22T09:39:14.473492Z",
     "shell.execute_reply.started": "2024-02-22T09:39:14.435671Z"
    },
    "id": "kFJ26BlTsSx8"
   },
   "outputs": [],
   "source": [
    "threshold_value = 127\n",
    "\n",
    "# Convert each grayscale image to binary image\n",
    "binary_image_list = []\n",
    "for gray_image in masks:\n",
    "    _, binary_image = cv2.threshold(gray_image, threshold_value, 255, cv2.THRESH_BINARY)\n",
    "    binary_image_list.append(binary_image)\n",
    "masks = binary_image_list"
   ]
  },
  {
   "cell_type": "code",
   "execution_count": null,
   "id": "ca1fbcd1",
   "metadata": {
    "colab": {
     "base_uri": "https://localhost:8080/"
    },
    "execution": {
     "iopub.execute_input": "2024-02-22T09:39:17.033721Z",
     "iopub.status.busy": "2024-02-22T09:39:17.033286Z",
     "iopub.status.idle": "2024-02-22T09:39:17.044452Z",
     "shell.execute_reply": "2024-02-22T09:39:17.043077Z",
     "shell.execute_reply.started": "2024-02-22T09:39:17.033692Z"
    },
    "id": "zrRgy78IooOX",
    "outputId": "9d179325-463d-49f6-860c-f3d68e30cd34"
   },
   "outputs": [],
   "source": [
    "l = np.array(binary_image_list[0])\n",
    "l = l.reshape(-1)\n",
    "print(l.shape)\n",
    "print(np.unique(l))\n",
    "l_series = pd.Series(l)\n",
    "print(l_series.value_counts())"
   ]
  },
  {
   "cell_type": "code",
   "execution_count": null,
   "id": "0d8cd02b",
   "metadata": {
    "colab": {
     "base_uri": "https://localhost:8080/",
     "height": 451
    },
    "execution": {
     "iopub.execute_input": "2024-02-22T09:39:24.250254Z",
     "iopub.status.busy": "2024-02-22T09:39:24.249772Z",
     "iopub.status.idle": "2024-02-22T09:39:24.501571Z",
     "shell.execute_reply": "2024-02-22T09:39:24.499979Z",
     "shell.execute_reply.started": "2024-02-22T09:39:24.250214Z"
    },
    "id": "vUlakRc-tLSS",
    "outputId": "4ae91166-85a3-4a14-d682-6f9511376885"
   },
   "outputs": [],
   "source": [
    "plt.imshow(binary_image_list[0],cmap='gray')"
   ]
  },
  {
   "cell_type": "markdown",
   "id": "e149b3fb",
   "metadata": {
    "id": "4541491c"
   },
   "source": [
    "# NOISE REMOVAL"
   ]
  },
  {
   "cell_type": "code",
   "execution_count": null,
   "id": "02f1a938",
   "metadata": {
    "id": "f3872ff6"
   },
   "outputs": [],
   "source": [
    "# Apply median filter to each image\n",
    "median_filtered_images = []\n",
    "for image in images:\n",
    "    # Apply median filter with kernel size 3x3\n",
    "    median_filtered_image = cv2.medianBlur(image, 3)\n",
    "    median_filtered_images.append(median_filtered_image)"
   ]
  },
  {
   "cell_type": "code",
   "execution_count": null,
   "id": "17bdd8a9",
   "metadata": {
    "colab": {
     "base_uri": "https://localhost:8080/",
     "height": 400
    },
    "id": "e8bed849",
    "outputId": "d7ccb991-3f9c-4a91-d9e5-9450b81fdbf5"
   },
   "outputs": [],
   "source": [
    "fig, axes = plt.subplots(1, 2, figsize=(10, 5))\n",
    "\n",
    "axes[0].imshow(images[0])\n",
    "axes[0].set_title('Image')\n",
    "axes[0].axis('off')\n",
    "\n",
    "axes[1].imshow(median_filtered_images[0])\n",
    "axes[1].set_title('Median Filterd Image')\n",
    "axes[1].axis('off')\n",
    "\n",
    "plt.show()"
   ]
  },
  {
   "cell_type": "code",
   "execution_count": null,
   "id": "3fb41178",
   "metadata": {
    "id": "4d2a716f"
   },
   "outputs": [],
   "source": [
    "# Define the kernel size for the Gaussian filter\n",
    "kernel_size = (3, 3)  # Adjust the size as needed, should be odd\n",
    "\n",
    "# Apply Gaussian filter to each image\n",
    "gaussian_filtered_images = []\n",
    "for image in images:\n",
    "    # Apply Gaussian filter\n",
    "    gaussian_filtered_image = cv2.GaussianBlur(image, kernel_size, 0)\n",
    "    gaussian_filtered_images.append(gaussian_filtered_image)"
   ]
  },
  {
   "cell_type": "code",
   "execution_count": null,
   "id": "afe34c70",
   "metadata": {
    "colab": {
     "base_uri": "https://localhost:8080/",
     "height": 400
    },
    "id": "4e4d0625",
    "outputId": "1104d0e6-61c5-49e2-d8b2-baa624ce70a3"
   },
   "outputs": [],
   "source": [
    "# Display the first image before and after applying Gaussian filter\n",
    "fig, axes = plt.subplots(1, 2, figsize=(10, 5))\n",
    "\n",
    "# Display the original image\n",
    "axes[0].imshow(images[0])\n",
    "axes[0].set_title('Original Image')\n",
    "axes[0].axis('off')\n",
    "\n",
    "# Display the Gaussian filtered image\n",
    "axes[1].imshow(gaussian_filtered_images[0])\n",
    "axes[1].set_title('Gaussian Filtered Image')\n",
    "axes[1].axis('off')\n",
    "\n",
    "plt.show()"
   ]
  },
  {
   "cell_type": "code",
   "execution_count": null,
   "id": "4b286e25",
   "metadata": {
    "id": "180837e9"
   },
   "outputs": [],
   "source": [
    "median_kernel_size = 3\n",
    "gaussian_kernel_size = (3, 3)\n",
    "# Apply both filters to each image\n",
    "processed_images = []\n",
    "for image in images:\n",
    "    median_filtered_image = cv2.medianBlur(image, median_kernel_size)\n",
    "    gaussian_filtered_image = cv2.GaussianBlur(median_filtered_image, gaussian_kernel_size, 0)\n",
    "    processed_images.append(gaussian_filtered_image)"
   ]
  },
  {
   "cell_type": "code",
   "execution_count": null,
   "id": "46b6968f",
   "metadata": {
    "colab": {
     "base_uri": "https://localhost:8080/",
     "height": 400
    },
    "id": "dfceff56",
    "outputId": "853966c2-3d3e-4c1a-fd8f-4de44f7f70e3"
   },
   "outputs": [],
   "source": [
    "fig, axes = plt.subplots(1, 2, figsize=(10, 5))\n",
    "\n",
    "# Display the original image\n",
    "axes[0].imshow(images[0])\n",
    "axes[0].set_title('Original Image')\n",
    "axes[0].axis('off')\n",
    "\n",
    "axes[1].imshow(processed_images[0])\n",
    "axes[1].set_title('Median + Gaussian Filtered Image')\n",
    "axes[1].axis('off')\n",
    "\n",
    "plt.show()"
   ]
  },
  {
   "cell_type": "code",
   "execution_count": null,
   "id": "e5010e29",
   "metadata": {},
   "outputs": [],
   "source": [
    "# # Assuming 'images' and 'masks' are NumPy arrays with the same number of elements\n",
    "# # images.shape = (num_images, image_height, image_width, num_channels)\n",
    "# # masks.shape = (num_images, mask_height, mask_width)\n",
    "\n",
    "# images = np.array(processed_images)\n",
    "# masks = np.array(masks)\n",
    "# # Generate a random permutation\n",
    "# num_images = images.shape[0]\n",
    "# permutation = np.random.permutation(num_images)\n",
    "\n",
    "# # Shuffle both arrays using the same permutation\n",
    "# images = images[permutation]\n",
    "# masks = masks[permutation]\n",
    "# print(images.shape[0])"
   ]
  },
  {
   "cell_type": "markdown",
   "id": "b976ae6d",
   "metadata": {
    "id": "e88e676b"
   },
   "source": [
    "# DATA AUGMENTATION"
   ]
  },
  {
   "cell_type": "code",
   "execution_count": null,
   "id": "47b52f57",
   "metadata": {
    "id": "aeba67a9"
   },
   "outputs": [],
   "source": [
    "rotation_angle = 15\n",
    "augmentation_probability = 0.25\n",
    "# Perform data augmentation on 50% of the images and masks\n",
    "augmented_images = []\n",
    "augmented_masks = []\n",
    "for image, mask in zip(processed_images, masks):\n",
    "    if np.random.rand() < augmentation_probability:\n",
    "        # Rotate the image\n",
    "        height, width = image.shape[:2]\n",
    "        rotation_matrix = cv2.getRotationMatrix2D((width / 2, height / 2), rotation_angle, 1)\n",
    "        rotated_image = cv2.warpAffine(image, rotation_matrix, (width, height), flags=cv2.INTER_LINEAR)\n",
    "\n",
    "        # Rotate the mask\n",
    "        rotated_mask = cv2.warpAffine(mask, rotation_matrix, (width, height), flags=cv2.INTER_NEAREST)\n",
    "\n",
    "        # Append the augmented image and mask\n",
    "        augmented_images.append(rotated_image)\n",
    "        augmented_masks.append(rotated_mask)\n",
    "    augmented_images.append(image)\n",
    "    augmented_masks.append(mask)\n",
    "\n",
    "# Convert the lists to numpy arrays\n",
    "augmented_images = np.array(augmented_images)\n",
    "augmented_masks = np.array(augmented_masks)"
   ]
  },
  {
   "cell_type": "code",
   "execution_count": null,
   "id": "3bb4d110",
   "metadata": {},
   "outputs": [],
   "source": [
    "# import numpy as np\n",
    "# import cv2\n",
    "\n",
    "# # Define augmentation parameters\n",
    "# rotation_angle = 15\n",
    "# augmentation_probability = 0.5  # Augment 50% of the data\n",
    "# flip_probability = 0.5   # Flip 50% of the data\n",
    "\n",
    "# # Perform data augmentation\n",
    "# augmented_images = []\n",
    "# augmented_masks = []\n",
    "\n",
    "# for image, mask in zip(processed_images, masks):\n",
    "#     if np.random.rand() < augmentation_probability:\n",
    "#         # Rotate the image\n",
    "#         height, width = image.shape[:2]\n",
    "#         rotation_matrix = cv2.getRotationMatrix2D((width / 2, height / 2), rotation_angle, 1)\n",
    "#         rotated_image = cv2.warpAffine(image, rotation_matrix, (width, height), flags=cv2.INTER_LINEAR)\n",
    "\n",
    "#         # Rotate the mask\n",
    "#         rotated_mask = cv2.warpAffine(mask, rotation_matrix, (width, height), flags=cv2.INTER_NEAREST)\n",
    "\n",
    "#         # Append the rotated image and mask\n",
    "#         augmented_images.append(rotated_image)\n",
    "#         augmented_masks.append(rotated_mask)\n",
    "\n",
    "#     if np.random.rand() < flip_probability:\n",
    "#         # Flip horizontally\n",
    "#         flipped_image = cv2.flip(image, 1)\n",
    "#         flipped_mask = cv2.flip(mask, 1)\n",
    "\n",
    "#         # Append the flipped image and mask\n",
    "#         augmented_images.append(flipped_image)\n",
    "#         augmented_masks.append(flipped_mask)\n",
    "\n",
    "#     # Append the original image and mask\n",
    "#     augmented_images.append(image)\n",
    "#     augmented_masks.append(mask)\n",
    "\n",
    "# # Convert the lists to numpy arrays\n",
    "# augmented_images = np.array(augmented_images)\n",
    "# augmented_masks = np.array(augmented_masks)"
   ]
  },
  {
   "cell_type": "code",
   "execution_count": null,
   "id": "a1a8e80d",
   "metadata": {},
   "outputs": [],
   "source": [
    "print(len(augmented_masks))"
   ]
  },
  {
   "cell_type": "code",
   "execution_count": null,
   "id": "526072b1",
   "metadata": {
    "colab": {
     "base_uri": "https://localhost:8080/",
     "height": 1000
    },
    "id": "6c9a7c06",
    "outputId": "3fc9700f-2587-48a1-e37f-042aa77ee89f"
   },
   "outputs": [],
   "source": [
    "random_indices = random.sample(range(len(augmented_images)), 10)\n",
    "fig, axes = plt.subplots(10, 2, figsize=(20, 40))\n",
    "for i, idx in enumerate(random_indices):\n",
    "    # Display the image\n",
    "    axes[i, 0].imshow(augmented_images[idx])\n",
    "    axes[i, 0].set_title('Image {}'.format(idx))\n",
    "    axes[i, 0].axis('off')\n",
    "\n",
    "    # Display the mask\n",
    "    axes[i, 1].imshow(augmented_masks[idx], cmap='gray')\n",
    "    axes[i, 1].set_title('Mask {}'.format(idx))\n",
    "    axes[i, 1].axis('off')\n",
    "\n",
    "plt.tight_layout()\n",
    "plt.show()"
   ]
  },
  {
   "cell_type": "code",
   "execution_count": null,
   "id": "709971a0",
   "metadata": {
    "colab": {
     "base_uri": "https://localhost:8080/"
    },
    "id": "3cf7cd7d",
    "outputId": "f0d882ec-3159-4d47-9345-f667920118ae"
   },
   "outputs": [],
   "source": [
    "print(\"Size of augmented images array:\", augmented_images.shape)\n",
    "print(\"Size of augmented masks array:\", augmented_masks.shape)"
   ]
  },
  {
   "cell_type": "markdown",
   "id": "a6e17d56",
   "metadata": {
    "id": "1b6ffd78"
   },
   "source": [
    "# LIGHT WEIGHT NEURAL NETWORK"
   ]
  },
  {
   "cell_type": "code",
   "execution_count": null,
   "id": "e88ef86a",
   "metadata": {
    "execution": {
     "iopub.execute_input": "2024-02-22T09:39:32.803484Z",
     "iopub.status.busy": "2024-02-22T09:39:32.803071Z",
     "iopub.status.idle": "2024-02-22T09:39:32.808847Z",
     "shell.execute_reply": "2024-02-22T09:39:32.807832Z",
     "shell.execute_reply.started": "2024-02-22T09:39:32.803452Z"
    },
    "id": "ec328cc5"
   },
   "outputs": [],
   "source": [
    "from keras.models import Sequential, Model\n",
    "from keras.layers import Conv2D\n",
    "from keras.applications.vgg16 import VGG16"
   ]
  },
  {
   "cell_type": "code",
   "execution_count": null,
   "id": "8eb8b159",
   "metadata": {},
   "outputs": [],
   "source": [
    "from tensorflow.keras.models import load_model\n",
    "\n",
    "model = load_model('best_model_128_128.h5',compile=False)\n",
    "model.summary()"
   ]
  },
  {
   "cell_type": "code",
   "execution_count": null,
   "id": "d8e2e65a",
   "metadata": {},
   "outputs": [],
   "source": [
    "for layer in model.layers:\n",
    "\tlayer.trainable = False"
   ]
  },
  {
   "cell_type": "code",
   "execution_count": null,
   "id": "a897eff6",
   "metadata": {},
   "outputs": [],
   "source": [
    "X_train = np.array(augmented_images)\n",
    "y_train = np.array(augmented_masks)\n",
    "print(X_train.shape)\n",
    "print(y_train.shape)\n",
    "y_train = np.expand_dims(y_train, axis=3)"
   ]
  },
  {
   "cell_type": "code",
   "execution_count": null,
   "id": "0218d191",
   "metadata": {
    "execution": {
     "iopub.execute_input": "2024-02-22T09:39:51.041124Z",
     "iopub.status.busy": "2024-02-22T09:39:51.039280Z",
     "iopub.status.idle": "2024-02-22T09:39:51.803355Z",
     "shell.execute_reply": "2024-02-22T09:39:51.801862Z",
     "shell.execute_reply.started": "2024-02-22T09:39:51.041073Z"
    }
   },
   "outputs": [],
   "source": [
    "img = X_train[10]\n",
    "plt.imshow(img)"
   ]
  },
  {
   "cell_type": "code",
   "execution_count": null,
   "id": "bbeb79a0",
   "metadata": {
    "colab": {
     "base_uri": "https://localhost:8080/"
    },
    "execution": {
     "iopub.execute_input": "2024-02-22T09:40:27.778192Z",
     "iopub.status.busy": "2024-02-22T09:40:27.777733Z",
     "iopub.status.idle": "2024-02-22T09:40:27.805675Z",
     "shell.execute_reply": "2024-02-22T09:40:27.804206Z",
     "shell.execute_reply.started": "2024-02-22T09:40:27.778160Z"
    },
    "id": "ae3dd01a",
    "outputId": "9af4e786-8686-4752-aa59-6e5d36b7fe8f"
   },
   "outputs": [],
   "source": [
    "new_model = Model(inputs=model.input, outputs=model.get_layer('block1_conv2').output)\n",
    "new_model.summary()"
   ]
  },
  {
   "cell_type": "code",
   "execution_count": null,
   "id": "ec14fbc3",
   "metadata": {
    "colab": {
     "base_uri": "https://localhost:8080/",
     "height": 373
    },
    "execution": {
     "iopub.execute_input": "2024-02-22T09:40:32.267022Z",
     "iopub.status.busy": "2024-02-22T09:40:32.266471Z",
     "iopub.status.idle": "2024-02-22T09:40:41.564735Z",
     "shell.execute_reply": "2024-02-22T09:40:41.563144Z",
     "shell.execute_reply.started": "2024-02-22T09:40:32.266984Z"
    },
    "id": "19bdfcd9",
    "outputId": "89b28cc7-8a83-4a9c-a7a2-81e5cdd054b6"
   },
   "outputs": [],
   "source": [
    "features = new_model.predict(X_train)"
   ]
  },
  {
   "cell_type": "code",
   "execution_count": null,
   "id": "1728fb7d",
   "metadata": {
    "colab": {
     "base_uri": "https://localhost:8080/",
     "height": 406
    },
    "execution": {
     "iopub.execute_input": "2024-02-22T09:41:17.720909Z",
     "iopub.status.busy": "2024-02-22T09:41:17.719516Z",
     "iopub.status.idle": "2024-02-22T09:41:20.344267Z",
     "shell.execute_reply": "2024-02-22T09:41:20.342852Z",
     "shell.execute_reply.started": "2024-02-22T09:41:17.720863Z"
    },
    "id": "G648H7FsW438",
    "outputId": "d555a5f8-7d64-4bab-b71f-bee948caf5ab"
   },
   "outputs": [],
   "source": [
    "#Plot features to view them\n",
    "square = 8\n",
    "ix=1\n",
    "for _ in range(square):\n",
    "    for _ in range(square):\n",
    "        ax = plt.subplot(square, square, ix)\n",
    "        ax.set_xticks([])\n",
    "        ax.set_yticks([])\n",
    "        plt.imshow(features[0,:,:,ix-1], cmap='gray')\n",
    "        ix +=1\n",
    "plt.show()"
   ]
  },
  {
   "cell_type": "code",
   "execution_count": null,
   "id": "44cef636",
   "metadata": {
    "execution": {
     "iopub.execute_input": "2024-02-22T09:41:50.742950Z",
     "iopub.status.busy": "2024-02-22T09:41:50.742359Z",
     "iopub.status.idle": "2024-02-22T09:41:50.749249Z",
     "shell.execute_reply": "2024-02-22T09:41:50.747658Z",
     "shell.execute_reply.started": "2024-02-22T09:41:50.742908Z"
    },
    "id": "26eea2ee"
   },
   "outputs": [],
   "source": [
    "X=features\n",
    "X = X.reshape(-1, X.shape[3])  #Make it compatible for Random Forest and match Y labels\n",
    "\n",
    "#Reshape Y to match X\n",
    "Y = y_train.reshape(-1)"
   ]
  },
  {
   "cell_type": "code",
   "execution_count": null,
   "id": "7ec20395",
   "metadata": {
    "colab": {
     "base_uri": "https://localhost:8080/"
    },
    "execution": {
     "iopub.execute_input": "2024-02-22T09:41:54.314399Z",
     "iopub.status.busy": "2024-02-22T09:41:54.313966Z",
     "iopub.status.idle": "2024-02-22T09:41:54.321158Z",
     "shell.execute_reply": "2024-02-22T09:41:54.319904Z",
     "shell.execute_reply.started": "2024-02-22T09:41:54.314366Z"
    },
    "id": "REJEs-DPf0en",
    "outputId": "463e76a6-596f-43af-95a9-aba0478d0e29"
   },
   "outputs": [],
   "source": [
    "print(X.shape)\n",
    "print(Y.shape)"
   ]
  },
  {
   "cell_type": "code",
   "execution_count": null,
   "id": "492f4fc5",
   "metadata": {
    "colab": {
     "base_uri": "https://localhost:8080/"
    },
    "execution": {
     "iopub.execute_input": "2024-02-22T09:42:02.887944Z",
     "iopub.status.busy": "2024-02-22T09:42:02.887448Z",
     "iopub.status.idle": "2024-02-22T09:42:02.987023Z",
     "shell.execute_reply": "2024-02-22T09:42:02.984434Z",
     "shell.execute_reply.started": "2024-02-22T09:42:02.887910Z"
    },
    "id": "13666ce5",
    "outputId": "fe634ffb-d0ad-460c-d0c4-88e9fcae7250"
   },
   "outputs": [],
   "source": [
    "dataset = pd.DataFrame(X)\n",
    "dataset['Label'] = Y\n",
    "print(dataset['Label'].unique())\n",
    "print(dataset['Label'].value_counts())"
   ]
  },
  {
   "cell_type": "code",
   "execution_count": null,
   "id": "f4694113",
   "metadata": {},
   "outputs": [],
   "source": [
    "print(dataset)"
   ]
  },
  {
   "cell_type": "code",
   "execution_count": null,
   "id": "e913cdfe",
   "metadata": {
    "execution": {
     "iopub.execute_input": "2024-02-22T09:42:12.966832Z",
     "iopub.status.busy": "2024-02-22T09:42:12.966289Z",
     "iopub.status.idle": "2024-02-22T09:42:14.182653Z",
     "shell.execute_reply": "2024-02-22T09:42:14.181337Z",
     "shell.execute_reply.started": "2024-02-22T09:42:12.966791Z"
    }
   },
   "outputs": [],
   "source": [
    "X_for_RF = dataset.drop(labels = ['Label'], axis=1)\n",
    "Y_for_RF = dataset['Label']"
   ]
  },
  {
   "cell_type": "code",
   "execution_count": null,
   "id": "244a9ef5",
   "metadata": {
    "colab": {
     "base_uri": "https://localhost:8080/"
    },
    "execution": {
     "iopub.execute_input": "2024-02-22T09:42:15.571732Z",
     "iopub.status.busy": "2024-02-22T09:42:15.571347Z",
     "iopub.status.idle": "2024-02-22T09:42:15.577961Z",
     "shell.execute_reply": "2024-02-22T09:42:15.576349Z",
     "shell.execute_reply.started": "2024-02-22T09:42:15.571706Z"
    },
    "id": "Onl2ak9Agws8",
    "outputId": "41d79290-a0d7-46e8-cda2-76347d5e3104"
   },
   "outputs": [],
   "source": [
    "print(X_for_RF.shape)\n",
    "print(Y_for_RF.shape)"
   ]
  },
  {
   "cell_type": "code",
   "execution_count": null,
   "id": "89bfad8f",
   "metadata": {
    "colab": {
     "base_uri": "https://localhost:8080/",
     "height": 74
    },
    "execution": {
     "iopub.execute_input": "2024-02-22T09:42:25.285806Z",
     "iopub.status.busy": "2024-02-22T09:42:25.285401Z",
     "iopub.status.idle": "2024-02-22T12:51:56.680562Z",
     "shell.execute_reply": "2024-02-22T12:51:56.679049Z",
     "shell.execute_reply.started": "2024-02-22T09:42:25.285775Z"
    },
    "id": "f7728c64",
    "outputId": "ab341256-3b6f-4f67-92ea-a24d5da7c15b"
   },
   "outputs": [],
   "source": [
    "from sklearn.ensemble import RandomForestClassifier\n",
    "\n",
    "model = RandomForestClassifier(n_estimators = 150, random_state = 42,n_jobs=-1)\n",
    "model.fit(X_for_RF, Y_for_RF)"
   ]
  },
  {
   "cell_type": "code",
   "execution_count": null,
   "id": "9cb7f436",
   "metadata": {
    "execution": {
     "iopub.execute_input": "2024-02-22T12:54:50.104732Z",
     "iopub.status.busy": "2024-02-22T12:54:50.104236Z",
     "iopub.status.idle": "2024-02-22T12:54:57.202421Z",
     "shell.execute_reply": "2024-02-22T12:54:57.201549Z",
     "shell.execute_reply.started": "2024-02-22T12:54:50.104699Z"
    }
   },
   "outputs": [],
   "source": [
    "# from joblib import dump\n",
    "# dump(model, 'Random_forest_model_250.joblib')"
   ]
  },
  {
   "cell_type": "code",
   "execution_count": null,
   "id": "28bc346b",
   "metadata": {
    "id": "MeXOsaE6VolO"
   },
   "outputs": [],
   "source": [
    "# import pickle\n",
    "# filename = 'RF_model.sav'\n",
    "# pickle.dump(model, open(filename, 'wb'))\n",
    "# loaded_model = pickle.load(open(filename, 'rb'))"
   ]
  },
  {
   "cell_type": "code",
   "execution_count": null,
   "id": "4a0935c5",
   "metadata": {},
   "outputs": [],
   "source": [
    "from joblib import load\n",
    "#from sklearn.externals import joblib\n",
    "# Load the model from the file\n",
    "with open('Random_forest_model_250.joblib', 'rb') as file:\n",
    "    model = load(file)"
   ]
  },
  {
   "cell_type": "code",
   "execution_count": null,
   "id": "0572c09f",
   "metadata": {
    "colab": {
     "base_uri": "https://localhost:8080/",
     "height": 434
    },
    "execution": {
     "iopub.execute_input": "2024-02-22T15:25:57.590988Z",
     "iopub.status.busy": "2024-02-22T15:25:57.590598Z",
     "iopub.status.idle": "2024-02-22T15:25:58.011720Z",
     "shell.execute_reply": "2024-02-22T15:25:58.010255Z",
     "shell.execute_reply.started": "2024-02-22T15:25:57.590955Z"
    },
    "id": "524cacff",
    "outputId": "4ced1a96-0091-48d7-bf01-83ba400af2e4"
   },
   "outputs": [],
   "source": [
    "test_img = cv2.imread('D:\\\\Downloads\\\\Project\\\\Dataset_BUSI_with_GT\\\\benign\\\\benign (1).png')\n",
    "test_mask = cv2.imread('D:\\\\Downloads\\\\Project\\\\Dataset_BUSI_with_GT\\\\benign\\\\benign (1)_mask.png',0)\n",
    "test_img = cv2.resize(test_img, (128, 128))\n",
    "test_mask = cv2.resize(test_mask, (128, 128))\n",
    "plt.imshow(test_img)\n",
    "test_img = cv2.cvtColor(test_img, cv2.COLOR_RGB2BGR)\n",
    "Test_img = np.expand_dims(test_img, axis=0)"
   ]
  },
  {
   "cell_type": "code",
   "execution_count": null,
   "id": "374b03e7",
   "metadata": {
    "colab": {
     "base_uri": "https://localhost:8080/",
     "height": 451
    },
    "execution": {
     "iopub.execute_input": "2024-02-22T13:03:46.387346Z",
     "iopub.status.busy": "2024-02-22T13:03:46.386870Z",
     "iopub.status.idle": "2024-02-22T13:03:46.642445Z",
     "shell.execute_reply": "2024-02-22T13:03:46.640840Z",
     "shell.execute_reply.started": "2024-02-22T13:03:46.387316Z"
    },
    "id": "3IAVPizMLaIY",
    "outputId": "47ee963d-6fd5-4568-fba8-a681cb2205a3"
   },
   "outputs": [],
   "source": [
    "plt.imshow(test_mask,cmap='gray')"
   ]
  },
  {
   "cell_type": "code",
   "execution_count": null,
   "id": "36bd598f",
   "metadata": {
    "colab": {
     "base_uri": "https://localhost:8080/"
    },
    "execution": {
     "iopub.execute_input": "2024-02-22T13:03:49.139685Z",
     "iopub.status.busy": "2024-02-22T13:03:49.139273Z",
     "iopub.status.idle": "2024-02-22T13:03:49.274165Z",
     "shell.execute_reply": "2024-02-22T13:03:49.273046Z",
     "shell.execute_reply.started": "2024-02-22T13:03:49.139656Z"
    },
    "id": "20dbc9e5",
    "outputId": "58879c59-90b0-4c89-b2d8-48154b3eb0bb"
   },
   "outputs": [],
   "source": [
    "X_test_feature = new_model.predict(Test_img)\n",
    "X_test_feature = X_test_feature.reshape(-1, X_test_feature.shape[3])"
   ]
  },
  {
   "cell_type": "code",
   "execution_count": null,
   "id": "60bc40e6",
   "metadata": {
    "execution": {
     "iopub.execute_input": "2024-02-22T13:03:50.917029Z",
     "iopub.status.busy": "2024-02-22T13:03:50.915920Z",
     "iopub.status.idle": "2024-02-22T13:03:53.304277Z",
     "shell.execute_reply": "2024-02-22T13:03:53.303363Z",
     "shell.execute_reply.started": "2024-02-22T13:03:50.916949Z"
    },
    "id": "668551d0",
    "scrolled": true
   },
   "outputs": [],
   "source": [
    "prediction = model.predict(X_test_feature)"
   ]
  },
  {
   "cell_type": "code",
   "execution_count": null,
   "id": "5fd04477",
   "metadata": {
    "id": "QtbxxKeQWqgd"
   },
   "outputs": [],
   "source": [
    "# # Make predictions on the testing set\n",
    "# prediction = model.predict(X_test_feature)\n",
    "# prediction = [1 if pred > 0.5 else 0 for pred in prediction]"
   ]
  },
  {
   "cell_type": "code",
   "execution_count": null,
   "id": "6d55adec",
   "metadata": {
    "colab": {
     "base_uri": "https://localhost:8080/",
     "height": 451
    },
    "execution": {
     "iopub.execute_input": "2024-02-22T13:03:56.113901Z",
     "iopub.status.busy": "2024-02-22T13:03:56.113478Z",
     "iopub.status.idle": "2024-02-22T13:03:56.375878Z",
     "shell.execute_reply": "2024-02-22T13:03:56.374560Z",
     "shell.execute_reply.started": "2024-02-22T13:03:56.113871Z"
    },
    "id": "_ildegVYPShA",
    "outputId": "df7945ee-80af-4e5c-d9c1-084f1d2e844b"
   },
   "outputs": [],
   "source": [
    "predicted_mask = prediction.reshape((128,128))\n",
    "plt.imshow(predicted_mask, cmap='gray')"
   ]
  },
  {
   "cell_type": "code",
   "execution_count": null,
   "id": "06a902c6",
   "metadata": {
    "colab": {
     "base_uri": "https://localhost:8080/",
     "height": 268
    },
    "execution": {
     "iopub.execute_input": "2024-02-22T12:59:15.647910Z",
     "iopub.status.busy": "2024-02-22T12:59:15.647433Z",
     "iopub.status.idle": "2024-02-22T12:59:16.094444Z",
     "shell.execute_reply": "2024-02-22T12:59:16.093455Z",
     "shell.execute_reply.started": "2024-02-22T12:59:15.647878Z"
    },
    "id": "YVvIBgXoPHx3",
    "outputId": "ed1adf85-6835-45d6-f795-c4fd29c01c08"
   },
   "outputs": [],
   "source": [
    "# Display the first image before and after applying Gaussian filter\n",
    "fig, axes = plt.subplots(1, 3, figsize=(15, 5))\n",
    "\n",
    "# Display the original image\n",
    "axes[0].imshow(test_img)\n",
    "axes[0].set_title('Original Image')\n",
    "axes[0].axis('off')\n",
    "\n",
    "# Display the Predicted Mask\n",
    "axes[1].imshow(test_mask,cmap = \"gray\")\n",
    "axes[1].set_title('original Mask')\n",
    "axes[1].axis('off')\n",
    "\n",
    "# Display the Predicted Mask\n",
    "axes[2].imshow(predicted_mask,cmap = \"gray\")\n",
    "axes[2].set_title('Predicted Mask')\n",
    "axes[2].axis('off')\n",
    "\n",
    "plt.show()"
   ]
  },
  {
   "cell_type": "code",
   "execution_count": null,
   "id": "d9e224de",
   "metadata": {
    "id": "8997sgNQPdbZ"
   },
   "outputs": [],
   "source": [
    "colored_mask = cv2.merge([np.zeros_like(predicted_mask), np.zeros_like(predicted_mask),255 * np.ones_like(predicted_mask)])\n",
    "colored_mask = cv2.bitwise_and(colored_mask, colored_mask, mask=predicted_mask)\n",
    "\n",
    "# Overlay the colored mask onto the original image\n",
    "detected_image = cv2.addWeighted(test_img, 0.7, colored_mask, 0.3, 0)\n",
    "\n",
    "# Convert BGR to RGB for Matplotlib\n",
    "detected_image_rgb = cv2.cvtColor(detected_image, cv2.COLOR_BGR2RGB)"
   ]
  },
  {
   "cell_type": "code",
   "execution_count": null,
   "id": "48ac75a8",
   "metadata": {
    "colab": {
     "base_uri": "https://localhost:8080/",
     "height": 406
    },
    "id": "taFFAVKoPsBs",
    "outputId": "b95d9033-9fb9-45e0-8fd5-a699b29f8d51"
   },
   "outputs": [],
   "source": [
    "# Display the detected image using Matplotlib\n",
    "#plt.figure(figsize=(6, 6))\n",
    "plt.imshow(detected_image_rgb)\n",
    "plt.title('Segmented Image')\n",
    "plt.axis('off')  # Turn off axis\n",
    "plt.show()"
   ]
  },
  {
   "cell_type": "code",
   "execution_count": null,
   "id": "33298c3a",
   "metadata": {},
   "outputs": [],
   "source": [
    "# Paths to images and masks\n",
    "train_image_paths = image_paths[:12]\n",
    "train_mask_paths = mask_paths[:12]"
   ]
  },
  {
   "cell_type": "code",
   "execution_count": null,
   "id": "9c743acb",
   "metadata": {},
   "outputs": [],
   "source": [
    "test_image_paths = image_paths[10:20]\n",
    "test_mask_paths = mask_paths[10:20]"
   ]
  },
  {
   "cell_type": "code",
   "execution_count": null,
   "id": "ad51fc30",
   "metadata": {},
   "outputs": [],
   "source": [
    "import cv2\n",
    "import numpy as np\n",
    "import matplotlib.pyplot as plt\n",
    "\n",
    "def load_image_and_mask(image_path, mask_path, target_size=(128, 128)):\n",
    "    test_img = cv2.imread(image_path)\n",
    "    test_mask = cv2.imread(mask_path, 0)\n",
    "    test_img = cv2.resize(test_img, target_size)\n",
    "    test_mask = cv2.resize(test_mask, target_size)\n",
    "    test_img = cv2.cvtColor(test_img, cv2.COLOR_BGR2RGB)\n",
    "    return test_img, test_mask\n",
    "\n",
    "def preprocess_image(test_img):\n",
    "    test_img = np.expand_dims(test_img, axis=0)\n",
    "    return test_img\n",
    "\n",
    "def predict_mask(new_model, model, test_img):\n",
    "    X_test_feature = new_model.predict(test_img)\n",
    "    X_test_feature = X_test_feature.reshape(-1, X_test_feature.shape[3])\n",
    "    prediction = model.predict(X_test_feature)\n",
    "    predicted_mask = prediction.reshape((128, 128))\n",
    "    return predicted_mask\n",
    "\n",
    "def display_results(original_img, original_mask, predicted_mask):\n",
    "    fig, axes = plt.subplots(1, 3, figsize=(15, 5))\n",
    "\n",
    "    axes[0].imshow(original_img)\n",
    "    axes[0].set_title('Original Image')\n",
    "    axes[0].axis('off')\n",
    "\n",
    "    axes[1].imshow(original_mask, cmap='gray')\n",
    "    axes[1].set_title('Original Mask')\n",
    "    axes[1].axis('off')\n",
    "\n",
    "    axes[2].imshow(predicted_mask, cmap='gray')\n",
    "    axes[2].set_title('Predicted Mask')\n",
    "    axes[2].axis('off')\n",
    "\n",
    "    plt.show()\n",
    "\n",
    "def overlay_mask(original_img, predicted_mask):\n",
    "    colored_mask = cv2.merge([np.zeros_like(predicted_mask), np.zeros_like(predicted_mask), 255 * np.ones_like(predicted_mask)])\n",
    "    colored_mask = cv2.bitwise_and(colored_mask, colored_mask, mask=predicted_mask)\n",
    "    detected_image = cv2.addWeighted(original_img, 0.7, colored_mask, 0.3, 0)\n",
    "    detected_image_rgb = cv2.cvtColor(detected_image, cv2.COLOR_BGR2RGB)\n",
    "    plt.imshow(detected_image_rgb)\n",
    "    plt.axis('off')\n",
    "    plt.show()          "
   ]
  },
  {
   "cell_type": "code",
   "execution_count": null,
   "id": "31be15ad",
   "metadata": {},
   "outputs": [],
   "source": [
    "import cv2\n",
    "import numpy as np\n",
    "\n",
    "def load_mask(path):\n",
    "    target_size = (128, 128)\n",
    "    mask = cv2.imread(path, cv2.IMREAD_GRAYSCALE)\n",
    "    mask = cv2.resize(mask, target_size)\n",
    "    return mask.astype(bool)\n",
    "\n",
    "def calculate_iou(pred_mask, true_mask):\n",
    "    intersection = np.logical_and(pred_mask, true_mask).sum()\n",
    "    union = np.logical_or(pred_mask, true_mask).sum()\n",
    "    if union == 0:  # Special case: both masks are completely black\n",
    "        return 1\n",
    "    iou = intersection / union\n",
    "    return iou\n",
    "\n",
    "def calculate_dice_coefficient(pred_mask, true_mask):\n",
    "    intersection = np.logical_and(pred_mask, true_mask).sum()\n",
    "    denominator = pred_mask.sum() + true_mask.sum()\n",
    "    if denominator == 0:  # Special case: both masks are completely black\n",
    "        return 1\n",
    "    dice_coefficient = (2.0 * intersection) / denominator\n",
    "    return dice_coefficient\n",
    "\n",
    "def calculate_f1_score(pred_mask, true_mask):\n",
    "    tp, fp, fn = calculate_tp_fp_fn(pred_mask, true_mask)\n",
    "    if tp == 0 and fp == 0 and fn == 0:  # Special case: both masks are completely black\n",
    "        return -1\n",
    "    precision = tp / (tp + fp) if (tp + fp) > 0 else 0\n",
    "    recall = tp / (tp + fn) if (tp + fn) > 0 else 0\n",
    "    f1_score = 2 * (precision * recall) / (precision + recall) if (precision + recall) > 0 else 0\n",
    "    return f1_score\n",
    "\n",
    "def calculate_precision_recall(pred_mask, true_mask):\n",
    "    tp, fp, fn = calculate_tp_fp_fn(pred_mask, true_mask)\n",
    "    if tp == 0 and fp == 0 and fn == 0:  # Special case: both masks are completely black\n",
    "        return -1, -1\n",
    "    precision = tp / (tp + fp) if (tp + fp) > 0 else 0\n",
    "    recall = tp / (tp + fn) if (tp + fn) > 0 else 0\n",
    "    return precision, recall\n",
    "\n",
    "def calculate_accuracy(pred_mask, true_mask):\n",
    "    true_positive = np.sum(np.logical_and(pred_mask, true_mask))\n",
    "    true_negative = np.sum(np.logical_and(np.logical_not(pred_mask), np.logical_not(true_mask)))\n",
    "    false_positive = np.sum(np.logical_and(pred_mask, np.logical_not(true_mask)))\n",
    "    false_negative = np.sum(np.logical_and(np.logical_not(pred_mask), true_mask))\n",
    "\n",
    "    total_pixels = pred_mask.size\n",
    "    accuracy = (true_positive + true_negative) / total_pixels\n",
    "    return accuracy\n",
    "\n",
    "def calculate_tp_fp_fn(pred_mask, true_mask):\n",
    "    tp = np.sum(np.logical_and(pred_mask, true_mask))\n",
    "    fp = np.sum(np.logical_and(pred_mask, np.logical_not(true_mask)))\n",
    "    fn = np.sum(np.logical_and(np.logical_not(pred_mask), true_mask))\n",
    "    return tp, fp, fn"
   ]
  },
  {
   "cell_type": "code",
   "execution_count": null,
   "id": "e76841f1",
   "metadata": {
    "scrolled": true
   },
   "outputs": [],
   "source": [
    "print(\"Segmentation on Training Data\")\n",
    "num_images = 12\n",
    "train_pred_masks = []\n",
    "for i in range(num_images):\n",
    "    test_img, test_mask = load_image_and_mask(train_image_paths[i], train_mask_paths[i])\n",
    "    test_img_preprocessed = preprocess_image(test_img)\n",
    "    predicted_mask = predict_mask(new_model, model, test_img_preprocessed)\n",
    "    cv2.imwrite(\"predicted_mask\"+str(i)+\".png\", predicted_mask.astype(np.uint8))\n",
    "    train_pred_masks.append(\"predicted_mask\"+str(i)+\".png\")\n",
    "    print(\"Train image :\",i+1)\n",
    "    display_results(test_img, test_mask, predicted_mask)\n",
    "    overlay_mask(test_img, predicted_mask)"
   ]
  },
  {
   "cell_type": "code",
   "execution_count": null,
   "id": "63fe8aed",
   "metadata": {},
   "outputs": [],
   "source": [
    "print(\"----TRAIN DATA----\")\n",
    "\n",
    "iou_scores = []\n",
    "dice_coefficients = []\n",
    "f1_scores = []\n",
    "precision = []\n",
    "recall = []\n",
    "accuracy = []\n",
    "i = 1\n",
    "for truth_path, pred_path in zip(train_mask_paths, train_pred_masks):\n",
    "    true_mask = load_mask(truth_path)\n",
    "    pred_mask = load_mask(pred_path)\n",
    "    iou = calculate_iou(pred_mask, true_mask)\n",
    "    iou_scores.append(iou)\n",
    "    dice = calculate_dice_coefficient(pred_mask, true_mask)\n",
    "    dice_coefficients.append(dice)\n",
    "    f1 = calculate_f1_score(pred_mask, true_mask)\n",
    "    f1_scores.append(f1)\n",
    "    pr = calculate_precision(pred_mask, true_mask)\n",
    "    precision.append(pr)\n",
    "    rc = calculate_recall(pred_mask, true_mask)\n",
    "    recall.append(rc)\n",
    "    acc = calculate_accuracy(pred_mask, true_mask)\n",
    "    accuracy.append(acc)\n",
    "    print(\"Image\",i)\n",
    "    i += 1\n",
    "    print(\"IoU:\", iou)\n",
    "    print(\"Dice Coefficient:\", dice)\n",
    "    print(\"F1 Score:\", round(f1*100,2))\n",
    "    print(\"Precision:\", round(pr*100,2))\n",
    "    print(\"Recall:\", round(rc*100,2))\n",
    "    print(\"Accuracy:\", round(acc*100,2))\n",
    "    print()\n",
    "    \n",
    "mean_iou = np.mean(iou_scores)\n",
    "mean_dice_coefficient = np.mean(dice_coefficients)\n",
    "mean_f1_score = np.mean(f1_scores)\n",
    "mean_precision = np.mean(precision)\n",
    "mean_recall = np.mean(recall)\n",
    "\n",
    "print(\"Mean IoU:\", mean_iou)\n",
    "print(\"Mean Dice Coefficient:\", mean_dice_coefficient)\n",
    "print(\"Mean F1 Score:\", round(mean_f1_score*100,2))\n",
    "print(\"Mean Precision:\", round(mean_precision*100,2))\n",
    "print(\"Mean Recall:\", round(mean_recall*100,2))"
   ]
  },
  {
   "cell_type": "code",
   "execution_count": null,
   "id": "7fef4475",
   "metadata": {},
   "outputs": [],
   "source": [
    "print(\"Segmentation on Testing Data\")\n",
    "num_images = 10\n",
    "test_pred_masks = []\n",
    "for i in range(num_images):\n",
    "    test_img, test_mask = load_image_and_mask(test_image_paths[i], test_mask_paths[i])\n",
    "    test_img_preprocessed = preprocess_image(test_img)\n",
    "    predicted_mask = predict_mask(new_model, model, test_img_preprocessed)\n",
    "    cv2.imwrite(\"predicted_mask\"+str(i)+\".png\", predicted_mask.astype(np.uint8))\n",
    "    test_pred_masks.append(\"predicted_mask\"+str(i)+\".png\")\n",
    "    print(\"Test image :\",i+1)\n",
    "    display_results(test_img, test_mask, predicted_mask)\n",
    "    overlay_mask(test_img, predicted_mask)"
   ]
  },
  {
   "cell_type": "code",
   "execution_count": null,
   "id": "85cd46c9",
   "metadata": {},
   "outputs": [],
   "source": [
    "print(\"----TEST DATA----\")\n",
    "\n",
    "iou_scores = []\n",
    "dice_coefficients = []\n",
    "f1_scores = []\n",
    "precision = []\n",
    "recall = []\n",
    "\n",
    "for truth_path, pred_path in zip(test_mask_paths, test_pred_masks):\n",
    "    true_mask = load_mask(truth_path)\n",
    "    pred_mask = load_mask(pred_path)\n",
    "    iou_scores.append(calculate_iou(pred_mask, true_mask))\n",
    "    dice_coefficients.append(calculate_dice_coefficient(pred_mask, true_mask))\n",
    "    f1_scores.append(calculate_f1_score(pred_mask, true_mask))\n",
    "    precision.append(calculate_precision(pred_mask, true_mask))\n",
    "    recall.append(calculate_recall(pred_mask, true_mask))\n",
    "\n",
    "mean_iou = np.mean(iou_scores)\n",
    "mean_dice_coefficient = np.mean(dice_coefficients)\n",
    "mean_f1_score = np.mean(f1_scores)\n",
    "mean_precision = np.mean(precision)\n",
    "mean_recall = np.mean(recall)\n",
    "\n",
    "print(\"IoU:\", mean_iou)\n",
    "print(\"Dice Coefficient:\", mean_dice_coefficient)\n",
    "print(\"F1 Score:\", round(mean_f1_score*100,2))\n",
    "print(\"Precision:\", round(mean_precision*100,2))\n",
    "print(\"Recall:\", round(mean_recall*100,2))"
   ]
  }
 ],
 "metadata": {
  "accelerator": "GPU",
  "colab": {
   "gpuType": "T4",
   "provenance": []
  },
  "kaggle": {
   "accelerator": "none",
   "dataSources": [
    {
     "datasetId": 1209633,
     "sourceId": 2021025,
     "sourceType": "datasetVersion"
    }
   ],
   "dockerImageVersionId": 30647,
   "isGpuEnabled": false,
   "isInternetEnabled": true,
   "language": "python",
   "sourceType": "notebook"
  },
  "kernelspec": {
   "display_name": "Python 3.9 (tensorflow)",
   "language": "python",
   "name": "tensorflow"
  },
  "language_info": {
   "codemirror_mode": {
    "name": "ipython",
    "version": 3
   },
   "file_extension": ".py",
   "mimetype": "text/x-python",
   "name": "python",
   "nbconvert_exporter": "python",
   "pygments_lexer": "ipython3",
   "version": "3.9.16"
  }
 },
 "nbformat": 4,
 "nbformat_minor": 5
}
